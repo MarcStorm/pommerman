{
 "cells": [
  {
   "cell_type": "code",
   "execution_count": 1,
   "metadata": {},
   "outputs": [],
   "source": [
    "import os\n",
    "import sys\n",
    "import numpy as np\n",
    "import pandas as pd\n",
    "import torch\n",
    "import timestamp\n",
    "import matplotlib.pyplot as plt\n",
    "from pommerman.agents import SimpleAgent, RandomAgent, PlayerAgent, BaseAgent\n",
    "from pommerman.configs import ffa_v0_fast_env\n",
    "from pommerman.envs.v0 import Pomme\n",
    "from pommerman.characters import Bomber\n",
    "from pommerman import utility, characters\n",
    "from pommerman.constants import Action\n",
    "from torch.nn.parameter import Parameter\n",
    "import torch.nn.init as init\n",
    "import torch.nn.functional as F\n",
    "import torch.optim as optim\n",
    "import torch.nn as nn"
   ]
  },
  {
   "cell_type": "code",
   "execution_count": 2,
   "metadata": {},
   "outputs": [],
   "source": [
    "use_cuda = torch.cuda.is_available()\n",
    "\n",
    "def get_variable(x):\n",
    "    \"\"\" Converts tensors to cuda, if available. \"\"\"\n",
    "    if use_cuda:\n",
    "        return x.cuda()\n",
    "    return x\n",
    "\n",
    "def get_numpy(x):\n",
    "    \"\"\" Get numpy array for both cuda and not. \"\"\"\n",
    "    if use_cuda:\n",
    "        return x.cpu().data.numpy()\n",
    "    return x.data.numpy()\n",
    "\n",
    "# Flattens a state s on the form list<dict> where each dict contains information of a state\n",
    "def flatten_state(s):\n",
    "    # Usage Example:\n",
    "\t# def forward(self, x):\n",
    "\t#     x = flatten_state(x)\n",
    "\t# where x is np.atleast1d(S[0])\n",
    "\treturn torch.from_numpy(np.array([flatten_state_aux(x) for x in s])).float()\n",
    "\t\n",
    "\n",
    "def flatten_state_aux(s):\n",
    "    # Lists\n",
    "    alive = [1 if x in s['alive'] else 0 for x in range(10,14)]\n",
    "    board = s['board']\n",
    "    bomb_blast_strength = s['bomb_blast_strength']\n",
    "    bomb_life = s['bomb_life']\n",
    "    # Tuples\n",
    "    position = s['position']\n",
    "    # Ints\n",
    "    blast_strength = s['blast_strength']\n",
    "    can_kick = s['can_kick']\n",
    "    ammo = s['ammo']\n",
    "    # Enums\n",
    "    teammate = s['teammate'] #9 for FFA\n",
    "    enemies = s['enemies'] #11,12,13 for FFA and training agent id = 0\n",
    "    \n",
    "    a = np.append(np.array(alive),np.array(board).flatten())\n",
    "    a = np.append(a,np.array(bomb_blast_strength).flatten())\n",
    "    a = np.append(a,np.array(bomb_life).flatten())\n",
    "    a = np.append(a,position[0])\n",
    "    a = np.append(a,position[1])\n",
    "    a = np.append(a,blast_strength)\n",
    "    a = np.append(a,can_kick)\n",
    "    a = np.append(a,ammo)\n",
    "    # Commented out as we get size 376 but expected 372. I assume we calculated wrong.\n",
    "    # Makes sense to ignore these imo\n",
    "    #a = np.append(a,teammate.value)\n",
    "    #a = np.append(a,[e.value for e in enemies])\n",
    "    return a.astype(float)"
   ]
  },
  {
   "cell_type": "code",
   "execution_count": 26,
   "metadata": {},
   "outputs": [
    {
     "data": {
      "text/plain": [
       "True"
      ]
     },
     "execution_count": 26,
     "metadata": {},
     "output_type": "execute_result"
    }
   ],
   "source": [
    "torch.backends.cudnn.enabled"
   ]
  },
  {
   "cell_type": "markdown",
   "metadata": {},
   "source": [
    "Actions: \n",
    "    Stop = 0,\n",
    "    Up = 1,\n",
    "    Down = 2,\n",
    "    Left = 3,\n",
    "    Right = 4,\n",
    "    Bomb = 5"
   ]
  },
  {
   "cell_type": "code",
   "execution_count": 10,
   "metadata": {},
   "outputs": [],
   "source": [
    "class PolicyNet(nn.Module):\n",
    "    \"\"\"Policy network\"\"\"\n",
    "\n",
    "    def __init__(self, n_inputs, n_hidden, n_outputs, learning_rate):\n",
    "        super(PolicyNet, self).__init__()\n",
    "        # network\n",
    "        self.hidden = nn.Linear(n_inputs, n_hidden)\n",
    "        self.out = nn.Linear(n_hidden, n_outputs)\n",
    "        # training\n",
    "        self.optimizer = optim.Adam(self.parameters(), lr=learning_rate)\n",
    "\n",
    "    def forward(self, x):\n",
    "        x = flatten_state(x)\n",
    "        x = self.hidden(x)\n",
    "        x = F.relu(x)\n",
    "        x = self.out(x)\n",
    "        return F.softmax(x, dim=1)\n",
    "    \n",
    "    def loss(self, action_probabilities, returns):\n",
    "        return -torch.mean(torch.mul(torch.log(action_probabilities), returns))"
   ]
  },
  {
   "cell_type": "code",
   "execution_count": 11,
   "metadata": {},
   "outputs": [],
   "source": [
    "def compute_returns(rewards, discount_factor):\n",
    "    \"\"\"Compute discounted returns.\"\"\"\n",
    "    returns = np.zeros(len(rewards))\n",
    "    returns[-1] = rewards[-1]\n",
    "    for t in reversed(range(len(rewards)-1)):\n",
    "        returns[t] = rewards[t] + discount_factor * returns[t+1]\n",
    "    return returns"
   ]
  },
  {
   "cell_type": "code",
   "execution_count": 12,
   "metadata": {},
   "outputs": [],
   "source": [
    "# Instantiate the environment\n",
    "config = ffa_v0_fast_env()\n",
    "env = Pomme(**config[\"env_kwargs\"])"
   ]
  },
  {
   "cell_type": "code",
   "execution_count": 13,
   "metadata": {},
   "outputs": [
    {
     "name": "stdout",
     "output_type": "stream",
     "text": [
      "state shape: 372\n",
      "action shape: 6\n"
     ]
    }
   ],
   "source": [
    "#n_inputs = env.observation_space.shape[0]\n",
    "n_inputs = 372\n",
    "#n_hidden = 20\n",
    "n_hidden = 500\n",
    "n_outputs = env.action_space.n\n",
    "\n",
    "print('state shape:', n_inputs)\n",
    "print('action shape:', n_outputs)\n",
    "\n"
   ]
  },
  {
   "cell_type": "code",
   "execution_count": 14,
   "metadata": {},
   "outputs": [],
   "source": [
    "class TrainingAgent(BaseAgent):\n",
    "    \n",
    "    def __init__(self, character=characters.Bomber):\n",
    "        super().__init__(character)\n",
    "        \n",
    "        \n",
    "    def act(self, obs, action_space):\n",
    "        return 0"
   ]
  },
  {
   "cell_type": "code",
   "execution_count": null,
   "metadata": {},
   "outputs": [],
   "source": [
    "# training settings\n",
    "debug = False\n",
    "num_episodes = 10\n",
    "\n",
    "discount_factor = 1.0 # reward discount factor (gamma), 1.0 = no discount\n",
    "learning_rate = 0.001 # you know this by now\n",
    "val_freq = 5 # validation frequency\n",
    "\n",
    "# setup policy network\n",
    "\n",
    "policy = PolicyNet(n_inputs, n_hidden, n_outputs, learning_rate)\n",
    "\n",
    "if use_cuda:\n",
    "    policy.cuda()\n"
   ]
  },
  {
   "cell_type": "code",
   "execution_count": 15,
   "metadata": {},
   "outputs": [
    {
     "name": "stdout",
     "output_type": "stream",
     "text": [
      "start training\n",
      "   5. mean training reward:  -8.40, mean validation reward:  -1.00, mean loss: -10.0239\n",
      "  10. mean training reward:  -6.60, mean validation reward:  -1.00, mean loss: -8.5700\n",
      "done\n"
     ]
    }
   ],
   "source": [
    "# train policy network\n",
    "\n",
    "try:\n",
    "    training_rewards, losses = [], []\n",
    "    print('start training')\n",
    "    for i in range(num_episodes):\n",
    "        rollout = []\n",
    "        \n",
    "        # Add four random agents\n",
    "        agents = []\n",
    "        #for agent_id in range(4):\n",
    "        #    agents[agent_id] = RandomAgent(config[\"agent\"](agent_id, config[\"game_type\"]))\n",
    "        agents = {\n",
    "            '0' : SimpleAgent(config[\"agent\"](0, config[\"game_type\"])),\n",
    "            '1' : RandomAgent(config[\"agent\"](1, config[\"game_type\"])),\n",
    "            '2' : RandomAgent(config[\"agent\"](2, config[\"game_type\"])),\n",
    "            '3' : TrainingAgent(config[\"agent\"](3, config[\"game_type\"]))\n",
    "        }\n",
    "        env.set_agents(list(agents.values()))\n",
    "        env.set_init_game_state(None)\n",
    "        \n",
    "        s = env.reset()\n",
    "        done = False\n",
    "        while(not done):\n",
    "            # generate rollout by iteratively evaluating the current policy on the environment\n",
    "            with torch.no_grad():\n",
    "                a_prob = policy(np.atleast_1d(s[3]))\n",
    "            a = (np.cumsum(a_prob.numpy()) > np.random.rand()).argmax() # sample action\n",
    "            \n",
    "            \n",
    "            actions = env.act(s)\n",
    "            actions[3] = a\n",
    "            \n",
    "            obs, reward, done, info = env.step(actions)\n",
    "            \n",
    "            rollout.append((s[3], a, reward[3]))\n",
    "            \n",
    "            s = obs\n",
    "            if done: break\n",
    "                \n",
    "        # prepare batch\n",
    "        rollout = np.array(rollout)\n",
    "        states = np.vstack(rollout[:,0])\n",
    "        actions = np.vstack(rollout[:,1])\n",
    "        rewards = np.array(rollout[:,2], dtype=float)\n",
    "        returns = compute_returns(rewards, discount_factor)\n",
    "        \n",
    "        # policy gradient update\n",
    "        policy.optimizer.zero_grad()\n",
    "        if i < 2 and debug:\n",
    "            print(\"torch.from_numpy(states).float()\")\n",
    "            print(torch.from_numpy(states).float())\n",
    "            print(torch.from_numpy(states).float())\n",
    "            print()\n",
    "            \n",
    "            print(\"policy(torch.from_numpy(states).float())\")\n",
    "            print(policy(torch.from_numpy(states).float()))\n",
    "            print(policy(torch.from_numpy(states).float()).size())\n",
    "            print()\n",
    "            \n",
    "            print(\"torch.from_numpy(actions))\")\n",
    "            print(torch.from_numpy(actions))\n",
    "            print(torch.from_numpy(actions).size())\n",
    "            print()\n",
    "            \n",
    "            print(\"policy(torch.from_numpy(states).float()).gather(1, torch.from_numpy(actions))\")\n",
    "            print(policy(torch.from_numpy(states).float()).gather(1, torch.from_numpy(actions)))\n",
    "            print()\n",
    "            \n",
    "            print(\"policy(torch.from_numpy(states).float()).gather(1, torch.from_numpy(actions)).view(-1)\")\n",
    "            print(policy(torch.from_numpy(states).float()).gather(1, torch.from_numpy(actions)).view(-1))\n",
    "            print()\n",
    "        \n",
    "        a_probs = policy([s[0] for s in states]).gather(1, torch.from_numpy(actions)).view(-1)\n",
    "        loss = policy.loss(a_probs, torch.from_numpy(returns).float())\n",
    "        loss.backward()\n",
    "        policy.optimizer.step()\n",
    "        \n",
    "        # bookkeeping\n",
    "        training_rewards.append(sum(rewards))\n",
    "        losses.append(loss.item())\n",
    "        \n",
    "        # print\n",
    "        if (i+1) % val_freq == 0:\n",
    "            # validation\n",
    "            validation_rewards = []\n",
    "            for _ in range(10):\n",
    "                s = env.reset()\n",
    "                reward = 0\n",
    "                done = False\n",
    "                while not done:\n",
    "                    with torch.no_grad():\n",
    "                        a = policy(np.atleast_1d(s[3])).float().argmax().item()\n",
    "                        \n",
    "                    actions = env.act(obs)\n",
    "                    actions[3] = a\n",
    "                    s, r, done, info = env.step(actions)\n",
    "                    reward += r[3]\n",
    "                    if done: break\n",
    "                validation_rewards.append(reward)\n",
    "            print('{:4d}. mean training reward: {:6.2f}, mean validation reward: {:6.2f}, mean loss: {:7.4f}'.format(i+1, np.mean(training_rewards[-val_freq:]), np.mean(validation_rewards), np.mean(losses[-val_freq:])))\n",
    "    print('done')\n",
    "except KeyboardInterrupt:\n",
    "    print('interrupt')"
   ]
  },
  {
   "cell_type": "code",
   "execution_count": 11,
   "metadata": {},
   "outputs": [
    {
     "data": {
      "image/png": "[encoded data removed]",
      "text/plain": [
       "<Figure size 1152x432 with 2 Axes>"
      ]
     },
     "metadata": {
      "needs_background": "light"
     },
     "output_type": "display_data"
    }
   ],
   "source": [
    "# plot results\n",
    "\n",
    "def moving_average(a, n=10) :\n",
    "    ret = np.cumsum(a, dtype=float)\n",
    "    ret[n:] = ret[n:] - ret[:-n]\n",
    "    return ret / n\n",
    "\n",
    "plt.figure(figsize=(16,6))\n",
    "plt.subplot(211)\n",
    "plt.plot(range(1, len(training_rewards)+1), training_rewards, label='training reward')\n",
    "plt.plot(moving_average(training_rewards))\n",
    "plt.xlabel('episode'); plt.ylabel('reward')\n",
    "plt.xlim((0, len(training_rewards)))\n",
    "plt.legend(loc=4); plt.grid()\n",
    "plt.subplot(212)\n",
    "plt.plot(range(1, len(losses)+1), losses, label='loss')\n",
    "plt.plot(moving_average(losses))\n",
    "plt.xlabel('episode'); plt.ylabel('loss')\n",
    "plt.xlim((0, len(losses)))\n",
    "plt.legend(loc=4); plt.grid()\n",
    "plt.tight_layout(); plt.show()"
   ]
  },
  {
   "cell_type": "code",
   "execution_count": 18,
   "metadata": {},
   "outputs": [],
   "source": [
    "## Save file\n",
    "PATH = \"/home/senbyo/Documents/DTU/deepLearning/Pommerman/pommerman/resources/firstAgent.pt\"\n",
    "#torch.save(policy.state_dict(), PATH)"
   ]
  },
  {
   "cell_type": "code",
   "execution_count": 19,
   "metadata": {},
   "outputs": [],
   "source": [
    "learning_rate = 0.001 # you know this by now\n",
    "n_inputs = 372\n",
    "n_hidden = 500\n",
    "n_outputs = 6\n",
    "\n",
    "class FirstAgent(BaseAgent):\n",
    "    \n",
    "    def __init__(self, character=characters.Bomber):\n",
    "        super().__init__(character)\n",
    "        self.policyNet = PolicyNet(n_inputs, n_hidden, n_outputs, learning_rate)\n",
    "        state_list = torch.load(PATH)\n",
    "        self.policyNet.load_state_dict(state_list)\n",
    "        \n",
    "        \n",
    "    def act(self, obs, action_space):\n",
    "        # Kald neuralt netværk og return\n",
    "        with torch.no_grad():\n",
    "            a_prob = self.policyNet(np.atleast_1d(obs))\n",
    "        a = (np.cumsum(a_prob.numpy()) > np.random.rand()).argmax() # sample action\n",
    "        \n",
    "        return a"
   ]
  },
  {
   "cell_type": "code",
   "execution_count": 20,
   "metadata": {},
   "outputs": [],
   "source": [
    "# Add four random agents\n",
    "agents = []\n",
    "#for agent_id in range(4):\n",
    "#    agents[agent_id] = RandomAgent(config[\"agent\"](agent_id, config[\"game_type\"]))\n",
    "agents = {\n",
    "    '0' : SimpleAgent(config[\"agent\"](0, config[\"game_type\"])),\n",
    "    '1' : RandomAgent(config[\"agent\"](1, config[\"game_type\"])),\n",
    "    '2' : RandomAgent(config[\"agent\"](2, config[\"game_type\"])),\n",
    "    '3' : FirstAgent(config[\"agent\"](3, config[\"game_type\"]))\n",
    "}\n",
    "env.set_agents(list(agents.values()))\n",
    "env.set_init_game_state(None)"
   ]
  },
  {
   "cell_type": "code",
   "execution_count": 21,
   "metadata": {
    "scrolled": true
   },
   "outputs": [
    {
     "name": "stdout",
     "output_type": "stream",
     "text": [
      "{'result': <Result.Win: 0>, 'winners': [0]}\n",
      "True\n"
     ]
    }
   ],
   "source": [
    "# Seed and reset the environment\n",
    "env.seed(0)\n",
    "obs = env.reset()\n",
    "\n",
    "# Run the random agents until we're done\n",
    "done = False\n",
    "while not done:\n",
    "    env.render()\n",
    "    actions = env.act(obs)\n",
    "    obs, reward, done, info = env.step(actions)\n",
    "env.render(close=True)\n",
    "env.close()\n",
    "\n",
    "print(info)\n",
    "print (done)"
   ]
  },
  {
   "cell_type": "code",
   "execution_count": 30,
   "metadata": {},
   "outputs": [],
   "source": [
    "# creating DataFrame from targets_data\n",
    "#targets_df = pd.DataFrame(data=targets_data)\n",
    "#targets_df.columns = ['targets']\n",
    "\n",
    "# creating tensor from targets_df \n",
    "#torch_tensor = torch.tensor(targets_df['targets'].values)\n",
    "\n",
    "# printing out result\n",
    "#print(torch_tensor\n",
    "dataFrame = pd.DataFrame(data=s)\n",
    "columns = dataFrame.columns \n",
    "torchTenssor = dataFrame[columns].values\n",
    "\n",
    "#print(dataFrame.values.ravel('C'))\n",
    "#print(dataFrame.stack())\n",
    "#print (torch.tensor(.columns.values))\n",
    "#print (obs[3]['board'])\n",
    "#print (obs[3]['bomb_blast_strength'])\n",
    "#print (obs[3])"
   ]
  },
  {
   "cell_type": "code",
   "execution_count": null,
   "metadata": {},
   "outputs": [],
   "source": []
  }
 ],
 "metadata": {
  "kernelspec": {
   "display_name": "Python 2",
   "language": "python",
   "name": "python2"
  },
  "language_info": {
   "codemirror_mode": {
    "name": "ipython",
    "version": 3
   },
   "file_extension": ".py",
   "mimetype": "text/x-python",
   "name": "python",
   "nbconvert_exporter": "python",
   "pygments_lexer": "ipython3",
   "version": "3.6.6"
  }
 },
 "nbformat": 4,
 "nbformat_minor": 2
}
