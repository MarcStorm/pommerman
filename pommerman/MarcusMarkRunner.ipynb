{
  "nbformat": 4,
  "nbformat_minor": 0,
  "metadata": {
    "colab": {
      "name": "MarcusMarkRunner.ipynb",
      "version": "0.3.2",
      "provenance": [],
      "include_colab_link": true
    },
    "kernelspec": {
      "name": "python3",
      "display_name": "Python 3"
    }
  },
  "cells": [
    {
      "cell_type": "markdown",
      "metadata": {
        "id": "view-in-github",
        "colab_type": "text"
      },
      "source": [
        "<a href=\"https://colab.research.google.com/github/MarcStorm/pommerman/blob/master/pommerman/MarcusMarkRunner.ipynb\" target=\"_parent\"><img src=\"https://colab.research.google.com/assets/colab-badge.svg\" alt=\"Open In Colab\"/></a>"
      ]
    },
    {
      "metadata": {
        "id": "9RTNZe6-SYmw",
        "colab_type": "code",
        "colab": {}
      },
      "cell_type": "code",
      "source": [
        "'''Install pytorch'''\n",
        "\n",
        "# http://pytorch.org/\n",
        "from os.path import exists\n",
        "from wheel.pep425tags import get_abbr_impl, get_impl_ver, get_abi_tag\n",
        "platform = '{}{}-{}'.format(get_abbr_impl(), get_impl_ver(), get_abi_tag())\n",
        "cuda_output = !ldconfig -p|grep cudart.so|sed -e 's/.*\\.\\([0-9]*\\)\\.\\([0-9]*\\)$/cu\\1\\2/'\n",
        "accelerator = cuda_output[0] if exists('/dev/nvidia0') else 'cpu'\n",
        "\n",
        "!pip install -q http://download.pytorch.org/whl/{accelerator}/torch-0.4.1-{platform}-linux_x86_64.whl torchvision\n",
        "import torch"
      ],
      "execution_count": 0,
      "outputs": []
    },
    {
      "metadata": {
        "id": "1xqZJX9bSZkC",
        "colab_type": "code",
        "colab": {
          "base_uri": "https://localhost:8080/",
          "height": 480
        },
        "outputId": "91cac22e-ad6e-47af-a314-3da291e08481"
      },
      "cell_type": "code",
      "source": [
        "'''Install gym'''\n",
        "\n",
        "!pip install gym"
      ],
      "execution_count": 2,
      "outputs": [
        {
          "output_type": "stream",
          "text": [
            "Collecting gym\n",
            "\u001b[?25l  Downloading https://files.pythonhosted.org/packages/c3/44/3a63e8b87f642db49ac81239620e68df8cfae223dcfda4f8508aec88d204/gym-0.10.8.tar.gz (1.5MB)\n",
            "\u001b[K    100% |████████████████████████████████| 1.5MB 11.0MB/s \n",
            "\u001b[?25hRequirement already satisfied: scipy in /usr/local/lib/python3.6/dist-packages (from gym) (0.19.1)\n",
            "Requirement already satisfied: numpy>=1.10.4 in /usr/local/lib/python3.6/dist-packages (from gym) (1.14.6)\n",
            "Requirement already satisfied: requests>=2.0 in /usr/local/lib/python3.6/dist-packages (from gym) (2.18.4)\n",
            "Requirement already satisfied: six in /usr/local/lib/python3.6/dist-packages (from gym) (1.11.0)\n",
            "Collecting pyglet>=1.2.0 (from gym)\n",
            "\u001b[?25l  Downloading https://files.pythonhosted.org/packages/1c/fc/dad5eaaab68f0c21e2f906a94ddb98175662cc5a654eee404d59554ce0fa/pyglet-1.3.2-py2.py3-none-any.whl (1.0MB)\n",
            "\u001b[K    100% |████████████████████████████████| 1.0MB 13.4MB/s \n",
            "\u001b[?25hRequirement already satisfied: idna<2.7,>=2.5 in /usr/local/lib/python3.6/dist-packages (from requests>=2.0->gym) (2.6)\n",
            "Requirement already satisfied: certifi>=2017.4.17 in /usr/local/lib/python3.6/dist-packages (from requests>=2.0->gym) (2018.10.15)\n",
            "Requirement already satisfied: chardet<3.1.0,>=3.0.2 in /usr/local/lib/python3.6/dist-packages (from requests>=2.0->gym) (3.0.4)\n",
            "Requirement already satisfied: urllib3<1.23,>=1.21.1 in /usr/local/lib/python3.6/dist-packages (from requests>=2.0->gym) (1.22)\n",
            "Requirement already satisfied: future in /usr/local/lib/python3.6/dist-packages (from pyglet>=1.2.0->gym) (0.16.0)\n",
            "Building wheels for collected packages: gym\n",
            "  Running setup.py bdist_wheel for gym ... \u001b[?25l-\b \b\\\b \b|\b \b/\b \bdone\n",
            "\u001b[?25h  Stored in directory: /root/.cache/pip/wheels/ea/ec/dd/33bcc8801d345f0b640fced8a0864a7c8474828564bc5ccf70\n",
            "Successfully built gym\n",
            "Installing collected packages: pyglet, gym\n",
            "Successfully installed gym-0.10.8 pyglet-1.3.2\n"
          ],
          "name": "stdout"
        }
      ]
    },
    {
      "metadata": {
        "id": "VoPJhtHTSZsD",
        "colab_type": "code",
        "colab": {
          "base_uri": "https://localhost:8080/",
          "height": 1635
        },
        "outputId": "c49dc05b-7467-458c-881c-6d0b0390a3cb"
      },
      "cell_type": "code",
      "source": [
        "'''Clone and install MultiAgentLearning/playground'''\n",
        "\n",
        "import os\n",
        "os.chdir('/content')\n",
        "\n",
        "!git clone https://github.com/MultiAgentLearning/playground\n",
        "os.chdir('/content/playground')\n",
        "!pip install -U ."
      ],
      "execution_count": 3,
      "outputs": [
        {
          "output_type": "stream",
          "text": [
            "Cloning into 'playground'...\n",
            "remote: Enumerating objects: 19, done.\u001b[K\n",
            "remote: Counting objects: 100% (19/19), done.\u001b[K\n",
            "remote: Compressing objects: 100% (17/17), done.\u001b[K\n",
            "remote: Total 1988 (delta 2), reused 14 (delta 2), pack-reused 1969\u001b[K\n",
            "Receiving objects: 100% (1988/1988), 1.95 MiB | 23.45 MiB/s, done.\n",
            "Resolving deltas: 100% (1077/1077), done.\n",
            "Processing /content/playground\n",
            "Collecting docker~=3.1 (from pommerman==0.2.0)\n",
            "\u001b[?25l  Downloading https://files.pythonhosted.org/packages/c2/76/b8091dc6d9db038af62ae88f228da656a84632cf5d7a84dcf54c613d3fd0/docker-3.5.1-py2.py3-none-any.whl (126kB)\n",
            "\u001b[K    100% |████████████████████████████████| 133kB 5.9MB/s \n",
            "\u001b[?25hRequirement already satisfied, skipping upgrade: gym~=0.10 in /usr/local/lib/python3.6/dist-packages (from pommerman==0.2.0) (0.10.8)\n",
            "Collecting scipy~=1.0 (from pommerman==0.2.0)\n",
            "\u001b[?25l  Downloading https://files.pythonhosted.org/packages/a8/0b/f163da98d3a01b3e0ef1cab8dd2123c34aee2bafbb1c5bffa354cc8a1730/scipy-1.1.0-cp36-cp36m-manylinux1_x86_64.whl (31.2MB)\n",
            "\u001b[K    100% |████████████████████████████████| 31.2MB 1.3MB/s \n",
            "\u001b[?25hRequirement already satisfied, skipping upgrade: Pillow~=5.0 in /usr/local/lib/python3.6/dist-packages (from pommerman==0.2.0) (5.3.0)\n",
            "Collecting ruamel.yaml~=0.15 (from pommerman==0.2.0)\n",
            "\u001b[?25l  Downloading https://files.pythonhosted.org/packages/39/33/97b9d11ec51283964a5576f6ceb01e7f1eb66c4da27d75925057a23deef5/ruamel.yaml-0.15.76-cp36-cp36m-manylinux1_x86_64.whl (661kB)\n",
            "\u001b[K    100% |████████████████████████████████| 665kB 20.8MB/s \n",
            "\u001b[?25hCollecting Flask~=0.12 (from pommerman==0.2.0)\n",
            "\u001b[?25l  Downloading https://files.pythonhosted.org/packages/2e/48/f1936dadac2326b3d73f2fe0a964a87d16be16eb9d7fc56f09c1bea3d17c/Flask-0.12.4-py2.py3-none-any.whl (81kB)\n",
            "\u001b[K    100% |████████████████████████████████| 81kB 23.0MB/s \n",
            "\u001b[?25hRequirement already satisfied, skipping upgrade: requests~=2.18 in /usr/local/lib/python3.6/dist-packages (from pommerman==0.2.0) (2.18.4)\n",
            "Collecting jsonmerge~=1.5.1 (from pommerman==0.2.0)\n",
            "  Downloading https://files.pythonhosted.org/packages/4d/cb/a3e18a2b13570e782c983bad2072d9d3c9576b5c79a3ddcab390d364c682/jsonmerge-1.5.1.tar.gz\n",
            "Collecting astroid>=2 (from pommerman==0.2.0)\n",
            "\u001b[?25l  Downloading https://files.pythonhosted.org/packages/19/92/6f6d3591c429dbdb31c18d8476ba1af08d5973d7cc09f66346109e9de7fb/astroid-2.0.4-py3-none-any.whl (172kB)\n",
            "\u001b[K    100% |████████████████████████████████| 174kB 29.0MB/s \n",
            "\u001b[?25hCollecting isort~=4.3.4 (from pommerman==0.2.0)\n",
            "\u001b[?25l  Downloading https://files.pythonhosted.org/packages/1f/2c/22eee714d7199ae0464beda6ad5fedec8fee6a2f7ffd1e8f1840928fe318/isort-4.3.4-py3-none-any.whl (45kB)\n",
            "\u001b[K    100% |████████████████████████████████| 51kB 20.4MB/s \n",
            "\u001b[?25hCollecting pylint>=2 (from pommerman==0.2.0)\n",
            "\u001b[?25l  Downloading https://files.pythonhosted.org/packages/6e/c2/1e97c238877b6a86562d32297eb33a6670b6220e8ec0ca85f67b66dc893f/pylint-2.1.1-py3-none-any.whl (737kB)\n",
            "\u001b[K    100% |████████████████████████████████| 747kB 19.5MB/s \n",
            "\u001b[?25hCollecting websockets~=6.0 (from pommerman==0.2.0)\n",
            "\u001b[?25l  Downloading https://files.pythonhosted.org/packages/5c/fe/99aeaf97985585baefca8d56125ec828ef5549276324ec319b63a4da686d/websockets-6.0-cp36-cp36m-manylinux1_x86_64.whl (88kB)\n",
            "\u001b[K    100% |████████████████████████████████| 92kB 27.7MB/s \n",
            "\u001b[?25hCollecting websocket-client~=0.53.0 (from pommerman==0.2.0)\n",
            "\u001b[?25l  Downloading https://files.pythonhosted.org/packages/14/d4/6a8cd4e7f67da465108c7cc0a307a1c5da7e2cdf497330b682069b1d4758/websocket_client-0.53.0-py2.py3-none-any.whl (198kB)\n",
            "\u001b[K    100% |████████████████████████████████| 204kB 30.1MB/s \n",
            "\u001b[?25hCollecting python-cli-ui~=0.7.1 (from pommerman==0.2.0)\n",
            "  Downloading https://files.pythonhosted.org/packages/42/81/7590106895c19509af927a8e6554adffd49567c26f115f8c7dcc6fd1ea33/python_cli_ui-0.7.2-py3-none-any.whl\n",
            "Collecting python-rapidjson~=0.6.3 (from pommerman==0.2.0)\n",
            "\u001b[?25l  Downloading https://files.pythonhosted.org/packages/a7/a3/1f6c756e84e60f674651ccb18a80090dddde9501a90f39b21d77e5a13dbd/python_rapidjson-0.6.3-cp36-cp36m-manylinux1_x86_64.whl (1.2MB)\n",
            "\u001b[K    100% |████████████████████████████████| 1.2MB 15.0MB/s \n",
            "\u001b[?25hCollecting docker-pycreds>=0.3.0 (from docker~=3.1->pommerman==0.2.0)\n",
            "  Downloading https://files.pythonhosted.org/packages/ea/bf/7e70aeebc40407fbdb96fa9f79fc8e4722ea889a99378303e3bcc73f4ab5/docker_pycreds-0.3.0-py2.py3-none-any.whl\n",
            "Requirement already satisfied, skipping upgrade: six>=1.4.0 in /usr/local/lib/python3.6/dist-packages (from docker~=3.1->pommerman==0.2.0) (1.11.0)\n",
            "Requirement already satisfied, skipping upgrade: numpy>=1.10.4 in /usr/local/lib/python3.6/dist-packages (from gym~=0.10->pommerman==0.2.0) (1.14.6)\n",
            "Requirement already satisfied, skipping upgrade: pyglet>=1.2.0 in /usr/local/lib/python3.6/dist-packages (from gym~=0.10->pommerman==0.2.0) (1.3.2)\n",
            "Collecting click>=2.0 (from Flask~=0.12->pommerman==0.2.0)\n",
            "\u001b[?25l  Downloading https://files.pythonhosted.org/packages/fa/37/45185cb5abbc30d7257104c434fe0b07e5a195a6847506c074527aa599ec/Click-7.0-py2.py3-none-any.whl (81kB)\n",
            "\u001b[K    100% |████████████████████████████████| 81kB 24.2MB/s \n",
            "\u001b[?25hCollecting itsdangerous>=0.21 (from Flask~=0.12->pommerman==0.2.0)\n",
            "  Downloading https://files.pythonhosted.org/packages/76/ae/44b03b253d6fade317f32c24d100b3b35c2239807046a4c953c7b89fa49e/itsdangerous-1.1.0-py2.py3-none-any.whl\n",
            "Requirement already satisfied, skipping upgrade: Jinja2>=2.4 in /usr/local/lib/python3.6/dist-packages (from Flask~=0.12->pommerman==0.2.0) (2.10)\n",
            "Requirement already satisfied, skipping upgrade: Werkzeug>=0.7 in /usr/local/lib/python3.6/dist-packages (from Flask~=0.12->pommerman==0.2.0) (0.14.1)\n",
            "Requirement already satisfied, skipping upgrade: urllib3<1.23,>=1.21.1 in /usr/local/lib/python3.6/dist-packages (from requests~=2.18->pommerman==0.2.0) (1.22)\n",
            "Requirement already satisfied, skipping upgrade: idna<2.7,>=2.5 in /usr/local/lib/python3.6/dist-packages (from requests~=2.18->pommerman==0.2.0) (2.6)\n",
            "Requirement already satisfied, skipping upgrade: certifi>=2017.4.17 in /usr/local/lib/python3.6/dist-packages (from requests~=2.18->pommerman==0.2.0) (2018.10.15)\n",
            "Requirement already satisfied, skipping upgrade: chardet<3.1.0,>=3.0.2 in /usr/local/lib/python3.6/dist-packages (from requests~=2.18->pommerman==0.2.0) (3.0.4)\n",
            "Requirement already satisfied, skipping upgrade: jsonschema in /usr/local/lib/python3.6/dist-packages (from jsonmerge~=1.5.1->pommerman==0.2.0) (2.6.0)\n",
            "Collecting typed-ast; python_version < \"3.7\" and implementation_name == \"cpython\" (from astroid>=2->pommerman==0.2.0)\n",
            "\u001b[?25l  Downloading https://files.pythonhosted.org/packages/35/69/94dd92985792df90cf3b544d33315e60a95cc1c7ce0518f73b4cc11f106e/typed_ast-1.1.0-cp36-cp36m-manylinux1_x86_64.whl (724kB)\n",
            "\u001b[K    100% |████████████████████████████████| 727kB 20.7MB/s \n",
            "\u001b[?25hRequirement already satisfied, skipping upgrade: wrapt in /usr/local/lib/python3.6/dist-packages (from astroid>=2->pommerman==0.2.0) (1.10.11)\n",
            "Collecting lazy-object-proxy (from astroid>=2->pommerman==0.2.0)\n",
            "\u001b[?25l  Downloading https://files.pythonhosted.org/packages/65/1f/2043ec33066e779905ed7e6580384425fdc7dc2ac64d6931060c75b0c5a3/lazy_object_proxy-1.3.1-cp36-cp36m-manylinux1_x86_64.whl (55kB)\n",
            "\u001b[K    100% |████████████████████████████████| 61kB 23.5MB/s \n",
            "\u001b[?25hCollecting mccabe (from pylint>=2->pommerman==0.2.0)\n",
            "  Downloading https://files.pythonhosted.org/packages/87/89/479dc97e18549e21354893e4ee4ef36db1d237534982482c3681ee6e7b57/mccabe-0.6.1-py2.py3-none-any.whl\n",
            "Collecting colorama<0.4,>=0.3 (from python-cli-ui~=0.7.1->pommerman==0.2.0)\n",
            "  Downloading https://files.pythonhosted.org/packages/db/c8/7dcf9dbcb22429512708fe3a547f8b6101c0d02137acbd892505aee57adf/colorama-0.3.9-py2.py3-none-any.whl\n",
            "Collecting tabulate<0.9,>=0.8 (from python-cli-ui~=0.7.1->pommerman==0.2.0)\n",
            "\u001b[?25l  Downloading https://files.pythonhosted.org/packages/12/c2/11d6845db5edf1295bc08b2f488cf5937806586afe42936c3f34c097ebdc/tabulate-0.8.2.tar.gz (45kB)\n",
            "\u001b[K    100% |████████████████████████████████| 51kB 21.3MB/s \n",
            "\u001b[?25hCollecting unidecode<2.0,>=1.0 (from python-cli-ui~=0.7.1->pommerman==0.2.0)\n",
            "\u001b[?25l  Downloading https://files.pythonhosted.org/packages/59/ef/67085e30e8bbcdd76e2f0a4ad8151c13a2c5bce77c85f8cad6e1f16fb141/Unidecode-1.0.22-py2.py3-none-any.whl (235kB)\n",
            "\u001b[K    100% |████████████████████████████████| 235kB 24.5MB/s \n",
            "\u001b[?25hRequirement already satisfied, skipping upgrade: future in /usr/local/lib/python3.6/dist-packages (from pyglet>=1.2.0->gym~=0.10->pommerman==0.2.0) (0.16.0)\n",
            "Requirement already satisfied, skipping upgrade: MarkupSafe>=0.23 in /usr/local/lib/python3.6/dist-packages (from Jinja2>=2.4->Flask~=0.12->pommerman==0.2.0) (1.0)\n",
            "Building wheels for collected packages: pommerman, jsonmerge, tabulate\n",
            "  Running setup.py bdist_wheel for pommerman ... \u001b[?25l-\b \b\\\b \b|\b \bdone\n",
            "\u001b[?25h  Stored in directory: /tmp/pip-ephem-wheel-cache-jk_tbfe6/wheels/45/74/b5/a1d68037428c296e56cbddde6156e599dbdce33938551a4854\n",
            "  Running setup.py bdist_wheel for jsonmerge ... \u001b[?25l-\b \bdone\n",
            "\u001b[?25h  Stored in directory: /root/.cache/pip/wheels/23/94/39/97b80e64c790ce9220784a8b2f8a1f73fd2dd1539a331e02f5\n",
            "  Running setup.py bdist_wheel for tabulate ... \u001b[?25l-\b \bdone\n",
            "\u001b[?25h  Stored in directory: /root/.cache/pip/wheels/2a/85/33/2f6da85d5f10614cbe5a625eab3b3aebfdf43e7b857f25f829\n",
            "Successfully built pommerman jsonmerge tabulate\n",
            "Installing collected packages: websocket-client, docker-pycreds, docker, scipy, ruamel.yaml, click, itsdangerous, Flask, jsonmerge, typed-ast, lazy-object-proxy, astroid, isort, mccabe, pylint, websockets, colorama, tabulate, unidecode, python-cli-ui, python-rapidjson, pommerman\n",
            "  Found existing installation: scipy 0.19.1\n",
            "    Uninstalling scipy-0.19.1:\n",
            "      Successfully uninstalled scipy-0.19.1\n",
            "Successfully installed Flask-0.12.4 astroid-2.0.4 click-7.0 colorama-0.3.9 docker-3.5.1 docker-pycreds-0.3.0 isort-4.3.4 itsdangerous-1.1.0 jsonmerge-1.5.1 lazy-object-proxy-1.3.1 mccabe-0.6.1 pommerman-0.2.0 pylint-2.1.1 python-cli-ui-0.7.2 python-rapidjson-0.6.3 ruamel.yaml-0.15.76 scipy-1.1.0 tabulate-0.8.2 typed-ast-1.1.0 unidecode-1.0.22 websocket-client-0.53.0 websockets-6.0\n"
          ],
          "name": "stdout"
        }
      ]
    },
    {
      "metadata": {
        "id": "O2BakTLxVXwD",
        "colab_type": "code",
        "colab": {
          "base_uri": "https://localhost:8080/",
          "height": 244
        },
        "outputId": "771baddc-e7ea-46dc-f1f5-5be234fec7e3"
      },
      "cell_type": "code",
      "source": [
        "!pip install timestamp"
      ],
      "execution_count": 4,
      "outputs": [
        {
          "output_type": "stream",
          "text": [
            "Collecting timestamp\n",
            "  Downloading https://files.pythonhosted.org/packages/93/eb/0cb4c02285930822d623c8e31382a8b2d54be49b4dab0731e5986b8af0c5/timestamp-0.0.1.tar.gz\n",
            "Building wheels for collected packages: timestamp\n",
            "  Running setup.py bdist_wheel for timestamp ... \u001b[?25l-\b \bdone\n",
            "\u001b[?25h  Stored in directory: /root/.cache/pip/wheels/98/ce/47/81db33b7307eb75b3f752b1536d667af945059fd22e658245c\n",
            "Successfully built timestamp\n",
            "Installing collected packages: timestamp\n",
            "Successfully installed timestamp-0.0.1\n"
          ],
          "name": "stdout"
        }
      ]
    },
    {
      "metadata": {
        "id": "qv04S4VNR0TW",
        "colab_type": "code",
        "colab": {
          "base_uri": "https://localhost:8080/",
          "height": 34
        },
        "outputId": "06270def-b197-4bd0-fb8d-aabb0e89b98c"
      },
      "cell_type": "code",
      "source": [
        "import os\n",
        "import sys\n",
        "import numpy as np\n",
        "import pandas as pd\n",
        "import torch\n",
        "import timestamp\n",
        "import matplotlib.pyplot as plt\n",
        "from pommerman.agents import SimpleAgent, RandomAgent, PlayerAgent, BaseAgent\n",
        "from pommerman.configs import ffa_v0_fast_env\n",
        "from pommerman.envs.v0 import Pomme\n",
        "from pommerman.characters import Bomber\n",
        "from pommerman import utility, characters\n",
        "from pommerman.constants import Action\n",
        "from torch.nn.parameter import Parameter\n",
        "import torch.nn.init as init\n",
        "import torch.nn.functional as F\n",
        "import torch.optim as optim\n",
        "import torch.nn as nn"
      ],
      "execution_count": 5,
      "outputs": [
        {
          "output_type": "stream",
          "text": [
            "Import error GL! You will not be able to render --> Library \"GL\" not found.\n"
          ],
          "name": "stdout"
        }
      ]
    },
    {
      "metadata": {
        "id": "wHZyc7jgR0Tg",
        "colab_type": "code",
        "colab": {}
      },
      "cell_type": "code",
      "source": [
        "use_cuda = torch.cuda.is_available()\n",
        "\n",
        "def get_variable(x):\n",
        "    \"\"\" Converts tensors to cuda, if available. \"\"\"\n",
        "    if use_cuda:\n",
        "        return x.cuda()\n",
        "    return x\n",
        "\n",
        "def get_numpy(x):\n",
        "    \"\"\" Get numpy array for both cuda and not. \"\"\"\n",
        "    if use_cuda:\n",
        "        return x.cpu().data.numpy()\n",
        "    return x.data.numpy()\n",
        "\n",
        "# Flattens a state s on the form list<dict> where each dict contains information of a state\n",
        "def flatten_state(s):\n",
        "    # Usage Example:\n",
        "\t# def forward(self, x):\n",
        "\t#     x = flatten_state(x)\n",
        "\t# where x is np.atleast1d(S[0])\n",
        "\treturn torch.from_numpy(np.array([flatten_state_aux(x) for x in s])).float()\n",
        "\t\n",
        "\n",
        "def flatten_state_aux(s):\n",
        "    # Lists\n",
        "    alive = [1 if x in s['alive'] else 0 for x in range(10,14)]\n",
        "    board = s['board']\n",
        "    bomb_blast_strength = s['bomb_blast_strength']\n",
        "    bomb_life = s['bomb_life']\n",
        "    # Tuples\n",
        "    position = s['position']\n",
        "    # Ints\n",
        "    blast_strength = s['blast_strength']\n",
        "    can_kick = s['can_kick']\n",
        "    ammo = s['ammo']\n",
        "    # Enums\n",
        "    teammate = s['teammate'] #9 for FFA\n",
        "    enemies = s['enemies'] #11,12,13 for FFA and training agent id = 0\n",
        "    \n",
        "    a = np.append(np.array(alive),np.array(board).flatten())\n",
        "    a = np.append(a,np.array(bomb_blast_strength).flatten())\n",
        "    a = np.append(a,np.array(bomb_life).flatten())\n",
        "    a = np.append(a,position[0])\n",
        "    a = np.append(a,position[1])\n",
        "    a = np.append(a,blast_strength)\n",
        "    a = np.append(a,can_kick)\n",
        "    a = np.append(a,ammo)\n",
        "    # Commented out as we get size 376 but expected 372. I assume we calculated wrong.\n",
        "    # Makes sense to ignore these imo\n",
        "    #a = np.append(a,teammate.value)\n",
        "    #a = np.append(a,[e.value for e in enemies])\n",
        "    return a.astype(float)"
      ],
      "execution_count": 0,
      "outputs": []
    },
    {
      "metadata": {
        "id": "OseF0FXhR0Tm",
        "colab_type": "code",
        "colab": {
          "base_uri": "https://localhost:8080/",
          "height": 34
        },
        "outputId": "1da5bbd0-a4ee-42a2-daca-1625d6731ac1"
      },
      "cell_type": "code",
      "source": [
        "torch.backends.cudnn.enabled"
      ],
      "execution_count": 7,
      "outputs": [
        {
          "output_type": "execute_result",
          "data": {
            "text/plain": [
              "True"
            ]
          },
          "metadata": {
            "tags": []
          },
          "execution_count": 7
        }
      ]
    },
    {
      "metadata": {
        "id": "RrRuM5MLR0Tw",
        "colab_type": "text"
      },
      "cell_type": "markdown",
      "source": [
        "Actions: \n",
        "    Stop = 0,\n",
        "    Up = 1,\n",
        "    Down = 2,\n",
        "    Left = 3,\n",
        "    Right = 4,\n",
        "    Bomb = 5"
      ]
    },
    {
      "metadata": {
        "id": "wnRYSk1sR0Tx",
        "colab_type": "code",
        "colab": {}
      },
      "cell_type": "code",
      "source": [
        "class PolicyNet(nn.Module):\n",
        "    \"\"\"Policy network\"\"\"\n",
        "\n",
        "    def __init__(self, n_inputs, n_hidden, n_outputs, learning_rate):\n",
        "        super(PolicyNet, self).__init__()\n",
        "        # network\n",
        "        self.hidden = nn.Linear(n_inputs, n_hidden)\n",
        "        self.out = nn.Linear(n_hidden, n_outputs)\n",
        "        # training\n",
        "        self.optimizer = optim.Adam(self.parameters(), lr=learning_rate)\n",
        "\n",
        "    def forward(self, x):\n",
        "        x = flatten_state(x)\n",
        "        x = self.hidden(x)\n",
        "        x = F.relu(x)\n",
        "        x = self.out(x)\n",
        "        return F.softmax(x, dim=1)\n",
        "    \n",
        "    def loss(self, action_probabilities, returns):\n",
        "        return -torch.mean(torch.mul(torch.log(action_probabilities), returns))"
      ],
      "execution_count": 0,
      "outputs": []
    },
    {
      "metadata": {
        "id": "zaPtmfiPR0T0",
        "colab_type": "code",
        "colab": {}
      },
      "cell_type": "code",
      "source": [
        "def compute_returns(rewards, discount_factor):\n",
        "    \"\"\"Compute discounted returns.\"\"\"\n",
        "    returns = np.zeros(len(rewards))\n",
        "    returns[-1] = rewards[-1]\n",
        "    for t in reversed(range(len(rewards)-1)):\n",
        "        returns[t] = rewards[t] + discount_factor * returns[t+1]\n",
        "    return returns"
      ],
      "execution_count": 0,
      "outputs": []
    },
    {
      "metadata": {
        "id": "Hb2cI_VZR0T4",
        "colab_type": "code",
        "colab": {}
      },
      "cell_type": "code",
      "source": [
        "# Instantiate the environment\n",
        "config = ffa_v0_fast_env()\n",
        "env = Pomme(**config[\"env_kwargs\"])"
      ],
      "execution_count": 0,
      "outputs": []
    },
    {
      "metadata": {
        "id": "lA3Beq3qR0T8",
        "colab_type": "code",
        "colab": {
          "base_uri": "https://localhost:8080/",
          "height": 51
        },
        "outputId": "aeb302df-bce1-4acb-f382-0043ad6fb3c9"
      },
      "cell_type": "code",
      "source": [
        "#n_inputs = env.observation_space.shape[0]\n",
        "n_inputs = 372\n",
        "#n_hidden = 20\n",
        "n_hidden = 500\n",
        "n_outputs = env.action_space.n\n",
        "\n",
        "print('state shape:', n_inputs)\n",
        "print('action shape:', n_outputs)\n",
        "\n"
      ],
      "execution_count": 34,
      "outputs": [
        {
          "output_type": "stream",
          "text": [
            "state shape: 372\n",
            "action shape: 6\n"
          ],
          "name": "stdout"
        }
      ]
    },
    {
      "metadata": {
        "id": "VLMpL-2fR0UA",
        "colab_type": "code",
        "colab": {}
      },
      "cell_type": "code",
      "source": [
        "class TrainingAgent(BaseAgent):\n",
        "    \n",
        "    def __init__(self, character=characters.Bomber):\n",
        "        super().__init__(character)\n",
        "        \n",
        "        \n",
        "    def act(self, obs, action_space):\n",
        "        return 0"
      ],
      "execution_count": 0,
      "outputs": []
    },
    {
      "metadata": {
        "id": "a_PqTKsER0UC",
        "colab_type": "code",
        "colab": {}
      },
      "cell_type": "code",
      "source": [
        "# training settings\n",
        "debug = False\n",
        "num_episodes = 10\n",
        "\n",
        "discount_factor = 1.0 # reward discount factor (gamma), 1.0 = no discount\n",
        "learning_rate = 0.001 # you know this by now\n",
        "val_freq = 5 # validation frequency\n",
        "\n",
        "# setup policy network\n",
        "\n",
        "policy = PolicyNet(n_inputs, n_hidden, n_outputs, learning_rate)\n",
        "\n",
        "if use_cuda:\n",
        "    policy.cuda()\n"
      ],
      "execution_count": 0,
      "outputs": []
    },
    {
      "metadata": {
        "id": "m-WXLheQR0UE",
        "colab_type": "code",
        "colab": {
          "base_uri": "https://localhost:8080/",
          "height": 929
        },
        "outputId": "739fb029-0a63-4009-a0e8-24117724aaa1"
      },
      "cell_type": "code",
      "source": [
        "# train policy network\n",
        "\n",
        "try:\n",
        "    training_rewards, losses = [], []\n",
        "    print('start training')\n",
        "    for i in range(num_episodes):\n",
        "        rollout = []\n",
        "        \n",
        "        # Add four random agents\n",
        "        agents = []\n",
        "        #for agent_id in range(4):\n",
        "        #    agents[agent_id] = RandomAgent(config[\"agent\"](agent_id, config[\"game_type\"]))\n",
        "        agents = {\n",
        "            '0' : SimpleAgent(config[\"agent\"](0, config[\"game_type\"])),\n",
        "            '1' : RandomAgent(config[\"agent\"](1, config[\"game_type\"])),\n",
        "            '2' : RandomAgent(config[\"agent\"](2, config[\"game_type\"])),\n",
        "            '3' : TrainingAgent(config[\"agent\"](3, config[\"game_type\"]))\n",
        "        }\n",
        "        env.set_agents(list(agents.values()))\n",
        "        env.set_init_game_state(None)\n",
        "        \n",
        "        s = env.reset()\n",
        "        done = False\n",
        "        while(not done):\n",
        "            # generate rollout by iteratively evaluating the current policy on the environment\n",
        "            with torch.no_grad():\n",
        "                a_prob = policy(np.atleast_1d(s[3]))\n",
        "            a = (np.cumsum(a_prob.numpy()) > np.random.rand()).argmax() # sample action\n",
        "            \n",
        "            \n",
        "            actions = env.act(s)\n",
        "            actions[3] = a\n",
        "            \n",
        "            obs, reward, done, info = env.step(actions)\n",
        "            \n",
        "            rollout.append((s[3], a, reward[3]))\n",
        "            \n",
        "            s = obs\n",
        "            if done: break\n",
        "                \n",
        "        # prepare batch\n",
        "        rollout = np.array(rollout)\n",
        "        states = np.vstack(rollout[:,0])\n",
        "        actions = np.vstack(rollout[:,1])\n",
        "        rewards = np.array(rollout[:,2], dtype=float)\n",
        "        returns = compute_returns(rewards, discount_factor)\n",
        "        \n",
        "        # policy gradient update\n",
        "        policy.optimizer.zero_grad()\n",
        "        if i < 2 and debug:\n",
        "            print(\"torch.from_numpy(states).float()\")\n",
        "            print(torch.from_numpy(states).float())\n",
        "            print(torch.from_numpy(states).float())\n",
        "            print()\n",
        "            \n",
        "            print(\"policy(torch.from_numpy(states).float())\")\n",
        "            print(policy(torch.from_numpy(states).float()))\n",
        "            print(policy(torch.from_numpy(states).float()).size())\n",
        "            print()\n",
        "            \n",
        "            print(\"torch.from_numpy(actions))\")\n",
        "            print(torch.from_numpy(actions))\n",
        "            print(torch.from_numpy(actions).size())\n",
        "            print()\n",
        "            \n",
        "            print(\"policy(torch.from_numpy(states).float()).gather(1, torch.from_numpy(actions))\")\n",
        "            print(policy(torch.from_numpy(states).float()).gather(1, torch.from_numpy(actions)))\n",
        "            print()\n",
        "            \n",
        "            print(\"policy(torch.from_numpy(states).float()).gather(1, torch.from_numpy(actions)).view(-1)\")\n",
        "            print(policy(torch.from_numpy(states).float()).gather(1, torch.from_numpy(actions)).view(-1))\n",
        "            print()\n",
        "        \n",
        "        a_probs = policy([s[0] for s in states]).gather(1, torch.from_numpy(actions)).view(-1)\n",
        "        loss = policy.loss(a_probs, torch.from_numpy(returns).float())\n",
        "        loss.backward()\n",
        "        policy.optimizer.step()\n",
        "        \n",
        "        # bookkeeping\n",
        "        training_rewards.append(sum(rewards))\n",
        "        losses.append(loss.item())\n",
        "        \n",
        "        # print\n",
        "        if (i+1) % val_freq == 0:\n",
        "            # validation\n",
        "            validation_rewards = []\n",
        "            for _ in range(10):\n",
        "                s = env.reset()\n",
        "                reward = 0\n",
        "                done = False\n",
        "                while not done:\n",
        "                    with torch.no_grad():\n",
        "                        a = policy(np.atleast_1d(s[3])).float().argmax().item()\n",
        "                        \n",
        "                    actions = env.act(obs)\n",
        "                    actions[3] = a\n",
        "                    s, r, done, info = env.step(actions)\n",
        "                    reward += r[3]\n",
        "                    if done: break\n",
        "                validation_rewards.append(reward)\n",
        "            print('{:4d}. mean training reward: {:6.2f}, mean validation reward: {:6.2f}, mean loss: {:7.4f}'.format(i+1, np.mean(training_rewards[-val_freq:]), np.mean(validation_rewards), np.mean(losses[-val_freq:])))\n",
        "    print('done')\n",
        "except KeyboardInterrupt:\n",
        "    print('interrupt')"
      ],
      "execution_count": 38,
      "outputs": [
        {
          "output_type": "stream",
          "text": [
            "start training\n"
          ],
          "name": "stdout"
        },
        {
          "output_type": "error",
          "ename": "AttributeError",
          "evalue": "ignored",
          "traceback": [
            "\u001b[0;31m---------------------------------------------------------------------------\u001b[0m",
            "\u001b[0;31mAttributeError\u001b[0m                            Traceback (most recent call last)",
            "\u001b[0;32m<ipython-input-38-0fc421d42397>\u001b[0m in \u001b[0;36m<module>\u001b[0;34m()\u001b[0m\n\u001b[1;32m     24\u001b[0m             \u001b[0;31m# generate rollout by iteratively evaluating the current policy on the environment\u001b[0m\u001b[0;34m\u001b[0m\u001b[0;34m\u001b[0m\u001b[0m\n\u001b[1;32m     25\u001b[0m             \u001b[0;32mwith\u001b[0m \u001b[0mtorch\u001b[0m\u001b[0;34m.\u001b[0m\u001b[0mno_grad\u001b[0m\u001b[0;34m(\u001b[0m\u001b[0;34m)\u001b[0m\u001b[0;34m:\u001b[0m\u001b[0;34m\u001b[0m\u001b[0m\n\u001b[0;32m---> 26\u001b[0;31m                 \u001b[0ma_prob\u001b[0m \u001b[0;34m=\u001b[0m \u001b[0mpolicy\u001b[0m\u001b[0;34m(\u001b[0m\u001b[0mnp\u001b[0m\u001b[0;34m.\u001b[0m\u001b[0matleast_1d\u001b[0m\u001b[0;34m(\u001b[0m\u001b[0ms\u001b[0m\u001b[0;34m[\u001b[0m\u001b[0;36m3\u001b[0m\u001b[0;34m]\u001b[0m\u001b[0;34m)\u001b[0m\u001b[0;34m)\u001b[0m\u001b[0;34m\u001b[0m\u001b[0m\n\u001b[0m\u001b[1;32m     27\u001b[0m             \u001b[0ma\u001b[0m \u001b[0;34m=\u001b[0m \u001b[0;34m(\u001b[0m\u001b[0mnp\u001b[0m\u001b[0;34m.\u001b[0m\u001b[0mcumsum\u001b[0m\u001b[0;34m(\u001b[0m\u001b[0ma_prob\u001b[0m\u001b[0;34m.\u001b[0m\u001b[0mnumpy\u001b[0m\u001b[0;34m(\u001b[0m\u001b[0;34m)\u001b[0m\u001b[0;34m)\u001b[0m \u001b[0;34m>\u001b[0m \u001b[0mnp\u001b[0m\u001b[0;34m.\u001b[0m\u001b[0mrandom\u001b[0m\u001b[0;34m.\u001b[0m\u001b[0mrand\u001b[0m\u001b[0;34m(\u001b[0m\u001b[0;34m)\u001b[0m\u001b[0;34m)\u001b[0m\u001b[0;34m.\u001b[0m\u001b[0margmax\u001b[0m\u001b[0;34m(\u001b[0m\u001b[0;34m)\u001b[0m \u001b[0;31m# sample action\u001b[0m\u001b[0;34m\u001b[0m\u001b[0m\n\u001b[1;32m     28\u001b[0m \u001b[0;34m\u001b[0m\u001b[0m\n",
            "\u001b[0;32m/usr/local/lib/python3.6/dist-packages/torch/nn/modules/module.py\u001b[0m in \u001b[0;36m__call__\u001b[0;34m(self, *input, **kwargs)\u001b[0m\n\u001b[1;32m    475\u001b[0m             \u001b[0mresult\u001b[0m \u001b[0;34m=\u001b[0m \u001b[0mself\u001b[0m\u001b[0;34m.\u001b[0m\u001b[0m_slow_forward\u001b[0m\u001b[0;34m(\u001b[0m\u001b[0;34m*\u001b[0m\u001b[0minput\u001b[0m\u001b[0;34m,\u001b[0m \u001b[0;34m**\u001b[0m\u001b[0mkwargs\u001b[0m\u001b[0;34m)\u001b[0m\u001b[0;34m\u001b[0m\u001b[0m\n\u001b[1;32m    476\u001b[0m         \u001b[0;32melse\u001b[0m\u001b[0;34m:\u001b[0m\u001b[0;34m\u001b[0m\u001b[0m\n\u001b[0;32m--> 477\u001b[0;31m             \u001b[0mresult\u001b[0m \u001b[0;34m=\u001b[0m \u001b[0mself\u001b[0m\u001b[0;34m.\u001b[0m\u001b[0mforward\u001b[0m\u001b[0;34m(\u001b[0m\u001b[0;34m*\u001b[0m\u001b[0minput\u001b[0m\u001b[0;34m,\u001b[0m \u001b[0;34m**\u001b[0m\u001b[0mkwargs\u001b[0m\u001b[0;34m)\u001b[0m\u001b[0;34m\u001b[0m\u001b[0m\n\u001b[0m\u001b[1;32m    478\u001b[0m         \u001b[0;32mfor\u001b[0m \u001b[0mhook\u001b[0m \u001b[0;32min\u001b[0m \u001b[0mself\u001b[0m\u001b[0;34m.\u001b[0m\u001b[0m_forward_hooks\u001b[0m\u001b[0;34m.\u001b[0m\u001b[0mvalues\u001b[0m\u001b[0;34m(\u001b[0m\u001b[0;34m)\u001b[0m\u001b[0;34m:\u001b[0m\u001b[0;34m\u001b[0m\u001b[0m\n\u001b[1;32m    479\u001b[0m             \u001b[0mhook_result\u001b[0m \u001b[0;34m=\u001b[0m \u001b[0mhook\u001b[0m\u001b[0;34m(\u001b[0m\u001b[0mself\u001b[0m\u001b[0;34m,\u001b[0m \u001b[0minput\u001b[0m\u001b[0;34m,\u001b[0m \u001b[0mresult\u001b[0m\u001b[0;34m)\u001b[0m\u001b[0;34m\u001b[0m\u001b[0m\n",
            "\u001b[0;32m<ipython-input-31-4a72378acbea>\u001b[0m in \u001b[0;36mforward\u001b[0;34m(self, x)\u001b[0m\n\u001b[1;32m     11\u001b[0m \u001b[0;34m\u001b[0m\u001b[0m\n\u001b[1;32m     12\u001b[0m     \u001b[0;32mdef\u001b[0m \u001b[0mforward\u001b[0m\u001b[0;34m(\u001b[0m\u001b[0mself\u001b[0m\u001b[0;34m,\u001b[0m \u001b[0mx\u001b[0m\u001b[0;34m)\u001b[0m\u001b[0;34m:\u001b[0m\u001b[0;34m\u001b[0m\u001b[0m\n\u001b[0;32m---> 13\u001b[0;31m         \u001b[0mx\u001b[0m \u001b[0;34m=\u001b[0m \u001b[0mflatten_state\u001b[0m\u001b[0;34m(\u001b[0m\u001b[0mx\u001b[0m\u001b[0;34m)\u001b[0m\u001b[0;34m\u001b[0m\u001b[0m\n\u001b[0m\u001b[1;32m     14\u001b[0m         \u001b[0mx\u001b[0m \u001b[0;34m=\u001b[0m \u001b[0mself\u001b[0m\u001b[0;34m.\u001b[0m\u001b[0mhidden\u001b[0m\u001b[0;34m(\u001b[0m\u001b[0mx\u001b[0m\u001b[0;34m)\u001b[0m\u001b[0;34m\u001b[0m\u001b[0m\n\u001b[1;32m     15\u001b[0m         \u001b[0mx\u001b[0m \u001b[0;34m=\u001b[0m \u001b[0mF\u001b[0m\u001b[0;34m.\u001b[0m\u001b[0mrelu\u001b[0m\u001b[0;34m(\u001b[0m\u001b[0mx\u001b[0m\u001b[0;34m)\u001b[0m\u001b[0;34m\u001b[0m\u001b[0m\n",
            "\u001b[0;32m<ipython-input-30-51de822724d3>\u001b[0m in \u001b[0;36mflatten_state\u001b[0;34m(s)\u001b[0m\n\u001b[1;32m     19\u001b[0m         \u001b[0;31m#     x = flatten_state(x)\u001b[0m\u001b[0;34m\u001b[0m\u001b[0;34m\u001b[0m\u001b[0m\n\u001b[1;32m     20\u001b[0m         \u001b[0;31m# where x is np.atleast1d(S[0])\u001b[0m\u001b[0;34m\u001b[0m\u001b[0;34m\u001b[0m\u001b[0m\n\u001b[0;32m---> 21\u001b[0;31m         \u001b[0;32mreturn\u001b[0m \u001b[0mtorch\u001b[0m\u001b[0;34m.\u001b[0m\u001b[0mfrom_numpy\u001b[0m\u001b[0;34m(\u001b[0m\u001b[0mnp\u001b[0m\u001b[0;34m.\u001b[0m\u001b[0marray\u001b[0m\u001b[0;34m(\u001b[0m\u001b[0;34m[\u001b[0m\u001b[0mflatten_state_aux\u001b[0m\u001b[0;34m(\u001b[0m\u001b[0mx\u001b[0m\u001b[0;34m)\u001b[0m \u001b[0;32mfor\u001b[0m \u001b[0mx\u001b[0m \u001b[0;32min\u001b[0m \u001b[0ms\u001b[0m\u001b[0;34m]\u001b[0m\u001b[0;34m)\u001b[0m\u001b[0;34m)\u001b[0m\u001b[0;34m.\u001b[0m\u001b[0mfloat\u001b[0m\u001b[0;34m(\u001b[0m\u001b[0;34m)\u001b[0m\u001b[0;34m\u001b[0m\u001b[0m\n\u001b[0m\u001b[1;32m     22\u001b[0m \u001b[0;34m\u001b[0m\u001b[0m\n\u001b[1;32m     23\u001b[0m \u001b[0;34m\u001b[0m\u001b[0m\n",
            "\u001b[0;32m<ipython-input-30-51de822724d3>\u001b[0m in \u001b[0;36m<listcomp>\u001b[0;34m(.0)\u001b[0m\n\u001b[1;32m     19\u001b[0m         \u001b[0;31m#     x = flatten_state(x)\u001b[0m\u001b[0;34m\u001b[0m\u001b[0;34m\u001b[0m\u001b[0m\n\u001b[1;32m     20\u001b[0m         \u001b[0;31m# where x is np.atleast1d(S[0])\u001b[0m\u001b[0;34m\u001b[0m\u001b[0;34m\u001b[0m\u001b[0m\n\u001b[0;32m---> 21\u001b[0;31m         \u001b[0;32mreturn\u001b[0m \u001b[0mtorch\u001b[0m\u001b[0;34m.\u001b[0m\u001b[0mfrom_numpy\u001b[0m\u001b[0;34m(\u001b[0m\u001b[0mnp\u001b[0m\u001b[0;34m.\u001b[0m\u001b[0marray\u001b[0m\u001b[0;34m(\u001b[0m\u001b[0;34m[\u001b[0m\u001b[0mflatten_state_aux\u001b[0m\u001b[0;34m(\u001b[0m\u001b[0mx\u001b[0m\u001b[0;34m)\u001b[0m \u001b[0;32mfor\u001b[0m \u001b[0mx\u001b[0m \u001b[0;32min\u001b[0m \u001b[0ms\u001b[0m\u001b[0;34m]\u001b[0m\u001b[0;34m)\u001b[0m\u001b[0;34m)\u001b[0m\u001b[0;34m.\u001b[0m\u001b[0mfloat\u001b[0m\u001b[0;34m(\u001b[0m\u001b[0;34m)\u001b[0m\u001b[0;34m\u001b[0m\u001b[0m\n\u001b[0m\u001b[1;32m     22\u001b[0m \u001b[0;34m\u001b[0m\u001b[0m\n\u001b[1;32m     23\u001b[0m \u001b[0;34m\u001b[0m\u001b[0m\n",
            "\u001b[0;32m<ipython-input-30-51de822724d3>\u001b[0m in \u001b[0;36mflatten_state_aux\u001b[0;34m(s)\u001b[0m\n\u001b[1;32m     50\u001b[0m     \u001b[0;31m#a = np.append(a,teammate.value)\u001b[0m\u001b[0;34m\u001b[0m\u001b[0;34m\u001b[0m\u001b[0m\n\u001b[1;32m     51\u001b[0m     \u001b[0;31m#a = np.append(a,[e.value for e in enemies])\u001b[0m\u001b[0;34m\u001b[0m\u001b[0;34m\u001b[0m\u001b[0m\n\u001b[0;32m---> 52\u001b[0;31m     \u001b[0;32mreturn\u001b[0m \u001b[0mget_numpy\u001b[0m\u001b[0;34m(\u001b[0m\u001b[0ma\u001b[0m\u001b[0;34m.\u001b[0m\u001b[0mastype\u001b[0m\u001b[0;34m(\u001b[0m\u001b[0mfloat\u001b[0m\u001b[0;34m)\u001b[0m\u001b[0;34m)\u001b[0m\u001b[0;34m\u001b[0m\u001b[0m\n\u001b[0m",
            "\u001b[0;32m<ipython-input-30-51de822724d3>\u001b[0m in \u001b[0;36mget_numpy\u001b[0;34m(x)\u001b[0m\n\u001b[1;32m     11\u001b[0m     \u001b[0;32mif\u001b[0m \u001b[0muse_cuda\u001b[0m\u001b[0;34m:\u001b[0m\u001b[0;34m\u001b[0m\u001b[0m\n\u001b[1;32m     12\u001b[0m         \u001b[0;32mreturn\u001b[0m \u001b[0mx\u001b[0m\u001b[0;34m.\u001b[0m\u001b[0mcpu\u001b[0m\u001b[0;34m(\u001b[0m\u001b[0;34m)\u001b[0m\u001b[0;34m.\u001b[0m\u001b[0mdata\u001b[0m\u001b[0;34m.\u001b[0m\u001b[0mnumpy\u001b[0m\u001b[0;34m(\u001b[0m\u001b[0;34m)\u001b[0m\u001b[0;34m\u001b[0m\u001b[0m\n\u001b[0;32m---> 13\u001b[0;31m     \u001b[0;32mreturn\u001b[0m \u001b[0mx\u001b[0m\u001b[0;34m.\u001b[0m\u001b[0mdata\u001b[0m\u001b[0;34m.\u001b[0m\u001b[0mnumpy\u001b[0m\u001b[0;34m(\u001b[0m\u001b[0;34m)\u001b[0m\u001b[0;34m\u001b[0m\u001b[0m\n\u001b[0m\u001b[1;32m     14\u001b[0m \u001b[0;34m\u001b[0m\u001b[0m\n\u001b[1;32m     15\u001b[0m \u001b[0;31m# Flattens a state s on the form list<dict> where each dict contains information of a state\u001b[0m\u001b[0;34m\u001b[0m\u001b[0;34m\u001b[0m\u001b[0m\n",
            "\u001b[0;31mAttributeError\u001b[0m: 'memoryview' object has no attribute 'numpy'"
          ]
        }
      ]
    },
    {
      "metadata": {
        "id": "FegMOLkxR0UH",
        "colab_type": "code",
        "colab": {
          "base_uri": "https://localhost:8080/",
          "height": 477
        },
        "outputId": "448ba6a9-c224-4669-c7b3-16e2cf7a9bec"
      },
      "cell_type": "code",
      "source": [
        "# plot results\n",
        "\n",
        "def moving_average(a, n=10) :\n",
        "    ret = np.cumsum(a, dtype=float)\n",
        "    ret[n:] = ret[n:] - ret[:-n]\n",
        "    return ret / n\n",
        "\n",
        "plt.figure(figsize=(16,6))\n",
        "plt.subplot(211)\n",
        "plt.plot(range(1, len(training_rewards)+1), training_rewards, label='training reward')\n",
        "plt.plot(moving_average(training_rewards))\n",
        "plt.xlabel('episode'); plt.ylabel('reward')\n",
        "plt.xlim((0, len(training_rewards)))\n",
        "plt.legend(loc=4); plt.grid()\n",
        "plt.subplot(212)\n",
        "plt.plot(range(1, len(losses)+1), losses, label='loss')\n",
        "plt.plot(moving_average(losses))\n",
        "plt.xlabel('episode'); plt.ylabel('loss')\n",
        "plt.xlim((0, len(losses)))\n",
        "plt.legend(loc=4); plt.grid()\n",
        "plt.tight_layout(); plt.show()"
      ],
      "execution_count": 15,
      "outputs": [
        {
          "output_type": "display_data",
          "data": {
            "image/png": "[encoded data removed]",
            "text/plain": [
              "<matplotlib.figure.Figure at 0x7fb833a5c630>"
            ]
          },
          "metadata": {
            "tags": []
          }
        }
      ]
    },
    {
      "metadata": {
        "id": "17gOPlxER0UK",
        "colab_type": "code",
        "colab": {}
      },
      "cell_type": "code",
      "source": [
        "os.chdir('/content/playground')\n",
        "\n",
        "# Create filename\n",
        "#FILENAME = <Name of agent>-<timestamp>.pt\n",
        "\n",
        "## Save file\n",
        "PATH = \"firstAgent.pt\"\n",
        "#PATH = \"/home/senbyo/Documents/DTU/deepLearning/Pommerman/pommerman/resources/firstAgent.pt\"\n",
        "torch.save(policy.state_dict(), PATH)"
      ],
      "execution_count": 0,
      "outputs": []
    },
    {
      "metadata": {
        "id": "yMeDZ1FRWrfS",
        "colab_type": "code",
        "colab": {
          "base_uri": "https://localhost:8080/",
          "height": 48
        },
        "outputId": "e84408d8-a468-4725-fd3a-c81ed9b7abd1"
      },
      "cell_type": "code",
      "source": [
        "!pip install -U -q PyDrive\n",
        "\n",
        "from pydrive.auth import GoogleAuth\n",
        "from pydrive.drive import GoogleDrive\n",
        "from google.colab import auth\n",
        "from oauth2client.client import GoogleCredentials\n",
        "\n",
        "# 1. Authenticate and create the PyDrive client.\n",
        "auth.authenticate_user()\n",
        "gauth = GoogleAuth()\n",
        "gauth.credentials = GoogleCredentials.get_application_default()\n",
        "drive = GoogleDrive(gauth)\n",
        "\n",
        "# PyDrive reference:\n",
        "# https://gsuitedevs.github.io/PyDrive/docs/build/html/index.html\n",
        "\n",
        "# 2. Create & upload a file text file.\n",
        "uploaded = drive.CreateFile()\n",
        "uploaded.SetContentFile('firstAgent.pt')\n",
        "uploaded.Upload()\n",
        "print('Uploaded file with ID {}'.format(uploaded.get('id')))"
      ],
      "execution_count": 22,
      "outputs": [
        {
          "output_type": "stream",
          "text": [
            "Uploaded file with ID 1XlEvxjtKDTGJe1XkYjWDg_otgqhYSSnz\n"
          ],
          "name": "stdout"
        }
      ]
    },
    {
      "metadata": {
        "id": "wMUCgz4IR0UN",
        "colab_type": "code",
        "colab": {}
      },
      "cell_type": "code",
      "source": [
        "learning_rate = 0.001 # you know this by now\n",
        "n_inputs = 372\n",
        "n_hidden = 500\n",
        "n_outputs = 6\n",
        "\n",
        "class FirstAgent(BaseAgent):\n",
        "    \n",
        "    def __init__(self, character=characters.Bomber):\n",
        "        super().__init__(character)\n",
        "        self.policyNet = PolicyNet(n_inputs, n_hidden, n_outputs, learning_rate)\n",
        "        state_list = torch.load(PATH)\n",
        "        self.policyNet.load_state_dict(state_list)\n",
        "        \n",
        "        \n",
        "    def act(self, obs, action_space):\n",
        "        # Kald neuralt netværk og return\n",
        "        with torch.no_grad():\n",
        "            a_prob = self.policyNet(np.atleast_1d(obs))\n",
        "        a = (np.cumsum(a_prob.numpy()) > np.random.rand()).argmax() # sample action\n",
        "        \n",
        "        return a"
      ],
      "execution_count": 0,
      "outputs": []
    },
    {
      "metadata": {
        "id": "0LwHjXWnR0UP",
        "colab_type": "code",
        "colab": {}
      },
      "cell_type": "code",
      "source": [
        "# Add four random agents\n",
        "agents = []\n",
        "#for agent_id in range(4):\n",
        "#    agents[agent_id] = RandomAgent(config[\"agent\"](agent_id, config[\"game_type\"]))\n",
        "agents = {\n",
        "    '0' : SimpleAgent(config[\"agent\"](0, config[\"game_type\"])),\n",
        "    '1' : RandomAgent(config[\"agent\"](1, config[\"game_type\"])),\n",
        "    '2' : RandomAgent(config[\"agent\"](2, config[\"game_type\"])),\n",
        "    '3' : FirstAgent(config[\"agent\"](3, config[\"game_type\"]))\n",
        "}\n",
        "env.set_agents(list(agents.values()))\n",
        "env.set_init_game_state(None)"
      ],
      "execution_count": 0,
      "outputs": []
    },
    {
      "metadata": {
        "scrolled": true,
        "id": "n6T11oZDR0UQ",
        "colab_type": "code",
        "colab": {
          "base_uri": "https://localhost:8080/",
          "height": 629
        },
        "outputId": "7859189b-cff2-4eec-f712-8374633223cb"
      },
      "cell_type": "code",
      "source": [
        "# Seed and reset the environment\n",
        "env.seed(0)\n",
        "obs = env.reset()\n",
        "\n",
        "# Run the random agents until we're done\n",
        "done = False\n",
        "while not done:\n",
        "    env.render()\n",
        "    actions = env.act(obs)\n",
        "    obs, reward, done, info = env.step(actions)\n",
        "env.render(close=True)\n",
        "env.close()\n",
        "\n",
        "print(info)\n",
        "print (done)"
      ],
      "execution_count": 25,
      "outputs": [
        {
          "output_type": "error",
          "ename": "NameError",
          "evalue": "ignored",
          "traceback": [
            "\u001b[0;31m---------------------------------------------------------------------------\u001b[0m",
            "\u001b[0;31mNameError\u001b[0m                                 Traceback (most recent call last)",
            "\u001b[0;32m<ipython-input-25-bbc24ce0bb59>\u001b[0m in \u001b[0;36m<module>\u001b[0;34m()\u001b[0m\n\u001b[1;32m      5\u001b[0m \u001b[0mdone\u001b[0m \u001b[0;34m=\u001b[0m \u001b[0;32mFalse\u001b[0m\u001b[0;34m\u001b[0m\u001b[0m\n\u001b[1;32m      6\u001b[0m \u001b[0;32mwhile\u001b[0m \u001b[0;32mnot\u001b[0m \u001b[0mdone\u001b[0m\u001b[0;34m:\u001b[0m\u001b[0;34m\u001b[0m\u001b[0m\n\u001b[0;32m----> 7\u001b[0;31m     \u001b[0menv\u001b[0m\u001b[0;34m.\u001b[0m\u001b[0mrender\u001b[0m\u001b[0;34m(\u001b[0m\u001b[0;34m)\u001b[0m\u001b[0;34m\u001b[0m\u001b[0m\n\u001b[0m\u001b[1;32m      8\u001b[0m     \u001b[0mactions\u001b[0m \u001b[0;34m=\u001b[0m \u001b[0menv\u001b[0m\u001b[0;34m.\u001b[0m\u001b[0mact\u001b[0m\u001b[0;34m(\u001b[0m\u001b[0mobs\u001b[0m\u001b[0;34m)\u001b[0m\u001b[0;34m\u001b[0m\u001b[0m\n\u001b[1;32m      9\u001b[0m     \u001b[0mobs\u001b[0m\u001b[0;34m,\u001b[0m \u001b[0mreward\u001b[0m\u001b[0;34m,\u001b[0m \u001b[0mdone\u001b[0m\u001b[0;34m,\u001b[0m \u001b[0minfo\u001b[0m \u001b[0;34m=\u001b[0m \u001b[0menv\u001b[0m\u001b[0;34m.\u001b[0m\u001b[0mstep\u001b[0m\u001b[0;34m(\u001b[0m\u001b[0mactions\u001b[0m\u001b[0;34m)\u001b[0m\u001b[0;34m\u001b[0m\u001b[0m\n",
            "\u001b[0;32m/content/playground/pommerman/envs/v0.py\u001b[0m in \u001b[0;36mrender\u001b[0;34m(self, mode, close, record_pngs_dir, record_json_dir, do_sleep)\u001b[0m\n\u001b[1;32m    243\u001b[0m                     \u001b[0mpartially_observable\u001b[0m\u001b[0;34m=\u001b[0m\u001b[0mself\u001b[0m\u001b[0;34m.\u001b[0m\u001b[0m_is_partially_observable\u001b[0m\u001b[0;34m,\u001b[0m\u001b[0;34m\u001b[0m\u001b[0m\n\u001b[1;32m    244\u001b[0m                     \u001b[0magent_view_size\u001b[0m\u001b[0;34m=\u001b[0m\u001b[0mself\u001b[0m\u001b[0;34m.\u001b[0m\u001b[0m_agent_view_size\u001b[0m\u001b[0;34m,\u001b[0m\u001b[0;34m\u001b[0m\u001b[0m\n\u001b[0;32m--> 245\u001b[0;31m                     game_type=self._game_type)\n\u001b[0m\u001b[1;32m    246\u001b[0m \u001b[0;34m\u001b[0m\u001b[0m\n\u001b[1;32m    247\u001b[0m             \u001b[0mself\u001b[0m\u001b[0;34m.\u001b[0m\u001b[0m_viewer\u001b[0m\u001b[0;34m.\u001b[0m\u001b[0mset_board\u001b[0m\u001b[0;34m(\u001b[0m\u001b[0mself\u001b[0m\u001b[0;34m.\u001b[0m\u001b[0m_board\u001b[0m\u001b[0;34m)\u001b[0m\u001b[0;34m\u001b[0m\u001b[0m\n",
            "\u001b[0;32m/content/playground/pommerman/graphics.py\u001b[0m in \u001b[0;36m__init__\u001b[0;34m(self, display, board_size, agents, partially_observable, agent_view_size, game_type)\u001b[0m\n\u001b[1;32m    219\u001b[0m                  \u001b[0magent_view_size\u001b[0m\u001b[0;34m=\u001b[0m\u001b[0;32mNone\u001b[0m\u001b[0;34m,\u001b[0m\u001b[0;34m\u001b[0m\u001b[0m\n\u001b[1;32m    220\u001b[0m                  game_type=None):\n\u001b[0;32m--> 221\u001b[0;31m         \u001b[0msuper\u001b[0m\u001b[0;34m(\u001b[0m\u001b[0;34m)\u001b[0m\u001b[0;34m.\u001b[0m\u001b[0m__init__\u001b[0m\u001b[0;34m(\u001b[0m\u001b[0;34m)\u001b[0m\u001b[0;34m\u001b[0m\u001b[0m\n\u001b[0m\u001b[1;32m    222\u001b[0m         \u001b[0;32mfrom\u001b[0m \u001b[0mgym\u001b[0m\u001b[0;34m.\u001b[0m\u001b[0menvs\u001b[0m\u001b[0;34m.\u001b[0m\u001b[0mclassic_control\u001b[0m \u001b[0;32mimport\u001b[0m \u001b[0mrendering\u001b[0m\u001b[0;34m\u001b[0m\u001b[0m\n\u001b[1;32m    223\u001b[0m         \u001b[0mself\u001b[0m\u001b[0;34m.\u001b[0m\u001b[0mdisplay\u001b[0m \u001b[0;34m=\u001b[0m \u001b[0mrendering\u001b[0m\u001b[0;34m.\u001b[0m\u001b[0mget_display\u001b[0m\u001b[0;34m(\u001b[0m\u001b[0mdisplay\u001b[0m\u001b[0;34m)\u001b[0m\u001b[0;34m\u001b[0m\u001b[0m\n",
            "\u001b[0;32m/content/playground/pommerman/graphics.py\u001b[0m in \u001b[0;36m__init__\u001b[0;34m(self)\u001b[0m\n\u001b[1;32m     57\u001b[0m         \u001b[0mself\u001b[0m\u001b[0;34m.\u001b[0m\u001b[0misopen\u001b[0m \u001b[0;34m=\u001b[0m \u001b[0;32mFalse\u001b[0m\u001b[0;34m\u001b[0m\u001b[0m\n\u001b[1;32m     58\u001b[0m \u001b[0;34m\u001b[0m\u001b[0m\n\u001b[0;32m---> 59\u001b[0;31m         \u001b[0mglEnable\u001b[0m\u001b[0;34m(\u001b[0m\u001b[0mGL_BLEND\u001b[0m\u001b[0;34m)\u001b[0m\u001b[0;34m\u001b[0m\u001b[0m\n\u001b[0m\u001b[1;32m     60\u001b[0m         \u001b[0mglBlendFunc\u001b[0m\u001b[0;34m(\u001b[0m\u001b[0mGL_SRC_ALPHA\u001b[0m\u001b[0;34m,\u001b[0m \u001b[0mGL_ONE_MINUS_SRC_ALPHA\u001b[0m\u001b[0;34m)\u001b[0m\u001b[0;34m\u001b[0m\u001b[0m\n\u001b[1;32m     61\u001b[0m \u001b[0;34m\u001b[0m\u001b[0m\n",
            "\u001b[0;31mNameError\u001b[0m: name 'glEnable' is not defined"
          ]
        }
      ]
    },
    {
      "metadata": {
        "id": "lMuZ0WQwR0US",
        "colab_type": "code",
        "colab": {}
      },
      "cell_type": "code",
      "source": [
        "# creating DataFrame from targets_data\n",
        "#targets_df = pd.DataFrame(data=targets_data)\n",
        "#targets_df.columns = ['targets']\n",
        "\n",
        "# creating tensor from targets_df \n",
        "#torch_tensor = torch.tensor(targets_df['targets'].values)\n",
        "\n",
        "# printing out result\n",
        "#print(torch_tensor\n",
        "dataFrame = pd.DataFrame(data=s)\n",
        "columns = dataFrame.columns \n",
        "torchTenssor = dataFrame[columns].values\n",
        "\n",
        "#print(dataFrame.values.ravel('C'))\n",
        "#print(dataFrame.stack())\n",
        "#print (torch.tensor(.columns.values))\n",
        "#print (obs[3]['board'])\n",
        "#print (obs[3]['bomb_blast_strength'])\n",
        "#print (obs[3])"
      ],
      "execution_count": 0,
      "outputs": []
    },
    {
      "metadata": {
        "id": "fbF1mYHcR0UU",
        "colab_type": "code",
        "colab": {}
      },
      "cell_type": "code",
      "source": [
        ""
      ],
      "execution_count": 0,
      "outputs": []
    }
  ]
}