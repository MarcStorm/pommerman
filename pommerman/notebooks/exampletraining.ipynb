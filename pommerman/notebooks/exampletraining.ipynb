{
 "cells": [
  {
   "cell_type": "markdown",
   "metadata": {},
   "source": [
    "# Import modules"
   ]
  },
  {
   "cell_type": "code",
   "execution_count": null,
   "metadata": {},
   "outputs": [],
   "source": [
    "import train\n",
    "from neuralnet import convNet"
   ]
  },
  {
   "cell_type": "markdown",
   "metadata": {},
   "source": [
    "# Set training and network parameters"
   ]
  },
  {
   "cell_type": "code",
   "execution_count": 3,
   "metadata": {},
   "outputs": [],
   "source": [
    "# training settings\n",
    "trainingKwargs = {    \n",
    "    'num_episodes' : 100,\n",
    "    #rollout_limit = env.spec.timestep_limit # max rollout length\n",
    "    'discount_factor' : 0.9, # reward discount factor (gamma), 1.0 = no discount\n",
    "    'val_freq' : 25 # validation frequency\n",
    "}\n",
    "\n",
    "# training network settings\n",
    "netKwargs = {\n",
    "    'n_inputs' : 614,\n",
    "    'n_hidden' : 500,\n",
    "    #'n_outputs' : env.action_space.n, \n",
    "    'n_outputs' : 6, # This method is updated in the training class\n",
    "    'learning_rate': 0.001,\n",
    "    'batch_norm' : False,\n",
    "    'conv1_in_channels' : 1,\n",
    "    'conv1_out_channels' : 3,\n",
    "    'conv2_out_channels' : 3,\n",
    "    'conv3_out_channels' : 3,\n",
    "    'kernel_size' : 5\n",
    "}\n"
   ]
  },
  {
   "cell_type": "markdown",
   "metadata": {},
   "source": [
    "# Instantiate network"
   ]
  },
  {
   "cell_type": "code",
   "execution_count": null,
   "metadata": {},
   "outputs": [],
   "source": [
    "neuralNet = PolicyNet(**netKwargs)"
   ]
  },
  {
   "cell_type": "markdown",
   "metadata": {},
   "source": [
    "# Start training"
   ]
  },
  {
   "cell_type": "code",
   "execution_count": 4,
   "metadata": {},
   "outputs": [],
   "source": [
    "valueTrainer = train.QTraining(neuralNet, **trainingKwargs)\n",
    "#valueTrainer.train()"
   ]
  },
  {
   "cell_type": "markdown",
   "metadata": {},
   "source": [
    "# Visualize "
   ]
  },
  {
   "cell_type": "code",
   "execution_count": null,
   "metadata": {},
   "outputs": [],
   "source": []
  }
 ],
 "metadata": {
  "kernelspec": {
   "display_name": "Python 3",
   "language": "python",
   "name": "python3"
  },
  "language_info": {
   "codemirror_mode": {
    "name": "ipython",
    "version": 3
   },
   "file_extension": ".py",
   "mimetype": "text/x-python",
   "name": "python",
   "nbconvert_exporter": "python",
   "pygments_lexer": "ipython3",
   "version": "3.6.6"
  }
 },
 "nbformat": 4,
 "nbformat_minor": 2
}
