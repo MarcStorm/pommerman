{
 "cells": [
  {
   "cell_type": "code",
   "execution_count": 2,
   "metadata": {
    "collapsed": true
   },
   "outputs": [],
   "source": [
    "import os\n",
    "import sys\n",
    "import numpy as np\n",
    "import pandas as pd\n",
    "import torch\n",
    "\n",
    "\n",
    "import matplotlib.pyplot as plt\n",
    "from pommerman.agents import SimpleAgent, RandomAgent, PlayerAgent, BaseAgent\n",
    "from pommerman.configs import ffa_v0_fast_env\n",
    "from pommerman.envs.v0 import Pomme\n",
    "from pommerman.characters import Bomber\n",
    "from pommerman import utility, characters\n",
    "from pommerman.constants import Action\n",
    "from torch.nn.parameter import Parameter\n",
    "import torch.nn.init as init\n",
    "import torch.nn.functional as F\n",
    "import torch.optim as optim\n",
    "import torch.nn as nn"
   ]
  },
  {
   "cell_type": "code",
   "execution_count": 4,
   "metadata": {
    "collapsed": false
   },
   "outputs": [
    {
     "name": "stdout",
     "output_type": "stream",
     "text": [
      "/Users/Marc/Projects/github.com/MarcStorm/pommerman\r\n"
     ]
    }
   ],
   "source": [
    "!pwd"
   ]
  },
  {
   "cell_type": "markdown",
   "metadata": {},
   "source": [
    "Actions: \n",
    "    Stop = 0,\n",
    "    Up = 1,\n",
    "    Down = 2,\n",
    "    Left = 3,\n",
    "    Right = 4,\n",
    "    Bomb = 5"
   ]
  },
  {
   "cell_type": "code",
   "execution_count": 3,
   "metadata": {
    "collapsed": true
   },
   "outputs": [],
   "source": [
    "class PolicyNet(nn.Module):\n",
    "    \"\"\"Policy network\"\"\"\n",
    "\n",
    "    def __init__(self, n_inputs, n_hidden, n_outputs, learning_rate):\n",
    "        super(PolicyNet, self).__init__()\n",
    "        # network\n",
    "        self.hidden = nn.Linear(n_inputs, n_hidden)\n",
    "        self.out = nn.Linear(n_hidden, n_outputs)\n",
    "        # training\n",
    "        self.optimizer = optim.Adam(self.parameters(), lr=learning_rate)\n",
    "\n",
    "    def forward(self, x):\n",
    "        x = self.hidden(x)\n",
    "        x = F.relu(x)\n",
    "        x = self.out(x)\n",
    "        return F.softmax(x, dim=1)\n",
    "    \n",
    "    def loss(self, action_probabilities, returns):\n",
    "        return -torch.mean(torch.mul(torch.log(action_probabilities), returns))"
   ]
  },
  {
   "cell_type": "code",
   "execution_count": 4,
   "metadata": {
    "collapsed": true
   },
   "outputs": [],
   "source": [
    "def compute_returns(rewards, discount_factor):\n",
    "    \"\"\"Compute discounted returns.\"\"\"\n",
    "    returns = np.zeros(len(rewards))\n",
    "    returns[-1] = rewards[-1]\n",
    "    for t in reversed(range(len(rewards)-1)):\n",
    "        returns[t] = rewards[t] + discount_factor * returns[t+1]\n",
    "    return returns"
   ]
  },
  {
   "cell_type": "code",
   "execution_count": 5,
   "metadata": {
    "collapsed": true
   },
   "outputs": [],
   "source": [
    "# Instantiate the environment\n",
    "config = ffa_v0_fast_env()\n",
    "env = Pomme(**config[\"env_kwargs\"])"
   ]
  },
  {
   "cell_type": "code",
   "execution_count": 6,
   "metadata": {
    "collapsed": false
   },
   "outputs": [
    {
     "name": "stdout",
     "output_type": "stream",
     "text": [
      "state shape: 121\n",
      "action shape: 6\n"
     ]
    }
   ],
   "source": [
    "#n_inputs = env.observation_space.shape[0]\n",
    "n_inputs = 121\n",
    "#n_hidden = 20\n",
    "n_hidden = 11\n",
    "n_outputs = env.action_space.n\n",
    "\n",
    "print('state shape:', n_inputs)\n",
    "print('action shape:', n_outputs)\n",
    "\n"
   ]
  },
  {
   "cell_type": "code",
   "execution_count": 125,
   "metadata": {
    "collapsed": true
   },
   "outputs": [],
   "source": [
    "class TrainingAgent(BaseAgent):\n",
    "    \n",
    "    def __init__(self, character=characters.Bomber):\n",
    "        super().__init__(character)\n",
    "        \n",
    "        \n",
    "    def act(self, obs, action_space):\n",
    "        return 0"
   ]
  },
  {
   "cell_type": "code",
   "execution_count": 126,
   "metadata": {
    "collapsed": false
   },
   "outputs": [
    {
     "name": "stdout",
     "output_type": "stream",
     "text": [
      "start training\n",
      "   5. mean training reward:  -9.80, mean validation reward: -20.90, mean loss: -10.6481\n",
      "  10. mean training reward: -13.40, mean validation reward: -25.00, mean loss: -16.5036\n",
      "  15. mean training reward: -23.20, mean validation reward: -25.90, mean loss: -25.1116\n",
      "  20. mean training reward: -14.00, mean validation reward: -14.00, mean loss: -16.1160\n",
      "done\n"
     ]
    }
   ],
   "source": [
    "# training settings\n",
    "debug = False\n",
    "num_episodes = 20\n",
    "\n",
    "discount_factor = 1.0 # reward discount factor (gamma), 1.0 = no discount\n",
    "learning_rate = 0.001 # you know this by now\n",
    "val_freq = 5 # validation frequency\n",
    "\n",
    "# setup policy network\n",
    "\n",
    "policy = PolicyNet(n_inputs, n_hidden, n_outputs, learning_rate)\n",
    "\n",
    "# train policy network\n",
    "\n",
    "try:\n",
    "    training_rewards, losses = [], []\n",
    "    print('start training')\n",
    "    for i in range(num_episodes):\n",
    "        rollout = []\n",
    "        \n",
    "        # Add four random agents\n",
    "        agents = []\n",
    "        #for agent_id in range(4):\n",
    "        #    agents[agent_id] = RandomAgent(config[\"agent\"](agent_id, config[\"game_type\"]))\n",
    "        agents = {\n",
    "            '0' : SimpleAgent(config[\"agent\"](0, config[\"game_type\"])),\n",
    "            '1' : RandomAgent(config[\"agent\"](1, config[\"game_type\"])),\n",
    "            '2' : RandomAgent(config[\"agent\"](2, config[\"game_type\"])),\n",
    "            '3' : TrainingAgent(config[\"agent\"](3, config[\"game_type\"]))\n",
    "        }\n",
    "        env.set_agents(list(agents.values()))\n",
    "        env.set_init_game_state(None)\n",
    "        \n",
    "        s = env.reset()\n",
    "        done = False\n",
    "        while(not done):\n",
    "            # generate rollout by iteratively evaluating the current policy on the environment\n",
    "            with torch.no_grad():\n",
    "                a_prob = policy(torch.from_numpy(np.atleast_2d(s[3]['board'].flatten())).float())\n",
    "            a = (np.cumsum(a_prob.numpy()) > np.random.rand()).argmax() # sample action\n",
    "            \n",
    "            \n",
    "            actions = env.act(s)\n",
    "            actions[3] = a\n",
    "            \n",
    "            obs, reward, done, info = env.step(actions)\n",
    "            \n",
    "            #Introduced flatten on the board\n",
    "            rollout.append((s[3]['board'].flatten(), a, reward[3]))\n",
    "            \n",
    "            s = obs\n",
    "            if done: break\n",
    "                \n",
    "        # prepare batch\n",
    "        rollout = np.array(rollout)\n",
    "        states = np.vstack(rollout[:,0])\n",
    "        actions = np.vstack(rollout[:,1])\n",
    "        rewards = np.array(rollout[:,2], dtype=float)\n",
    "        returns = compute_returns(rewards, discount_factor)\n",
    "        \n",
    "        # policy gradient update\n",
    "        policy.optimizer.zero_grad()\n",
    "        #print ( torch.from_numpy(actions) )\n",
    "        if i < 2 and debug:\n",
    "            print(\"torch.from_numpy(states).float()\")\n",
    "            print(torch.from_numpy(states).float())\n",
    "            print(torch.from_numpy(states).float())\n",
    "            print()\n",
    "            \n",
    "            print(\"policy(torch.from_numpy(states).float())\")\n",
    "            print(policy(torch.from_numpy(states).float()))\n",
    "            print(policy(torch.from_numpy(states).float()).size())\n",
    "            print()\n",
    "            \n",
    "            print(\"torch.from_numpy(actions))\")\n",
    "            print(torch.from_numpy(actions))\n",
    "            print(torch.from_numpy(actions).size())\n",
    "            print()\n",
    "            \n",
    "            print(\"policy(torch.from_numpy(states).float()).gather(1, torch.from_numpy(actions))\")\n",
    "            print(policy(torch.from_numpy(states).float()).gather(1, torch.from_numpy(actions)))\n",
    "            print()\n",
    "            \n",
    "            print(\"policy(torch.from_numpy(states).float()).gather(1, torch.from_numpy(actions)).view(-1)\")\n",
    "            print(policy(torch.from_numpy(states).float()).gather(1, torch.from_numpy(actions)).view(-1))\n",
    "            print()\n",
    "        \n",
    "        a_probs = policy(torch.from_numpy(states).float()).gather(1, torch.from_numpy(actions)).view(-1)\n",
    "        loss = policy.loss(a_probs, torch.from_numpy(returns).float())\n",
    "        loss.backward()\n",
    "        policy.optimizer.step()\n",
    "        \n",
    "        # bookkeeping\n",
    "        training_rewards.append(sum(rewards))\n",
    "        losses.append(loss.item())\n",
    "        \n",
    "        # print\n",
    "        if (i+1) % val_freq == 0:\n",
    "            # validation\n",
    "            validation_rewards = []\n",
    "            for _ in range(10):\n",
    "                s = env.reset()\n",
    "                reward = 0\n",
    "                done = False\n",
    "                while not done:\n",
    "                    with torch.no_grad():\n",
    "                        a = policy(torch.from_numpy(np.atleast_2d(s[3]['board'].flatten())).float()).argmax().item()\n",
    "                        \n",
    "                    actions = env.act(obs)\n",
    "                    actions[3] = a\n",
    "                    s, r, done, info = env.step(actions)\n",
    "                    reward += r[3]\n",
    "                    if done: break\n",
    "                validation_rewards.append(reward)\n",
    "            print('{:4d}. mean training reward: {:6.2f}, mean validation reward: {:6.2f}, mean loss: {:7.4f}'.format(i+1, np.mean(training_rewards[-val_freq:]), np.mean(validation_rewards), np.mean(losses[-val_freq:])))\n",
    "    print('done')\n",
    "except KeyboardInterrupt:\n",
    "    print('interrupt')"
   ]
  },
  {
   "cell_type": "code",
   "execution_count": 127,
   "metadata": {
    "collapsed": false
   },
   "outputs": [
    {
     "data": {
      "image/png": "[encoded data removed]",
      "text/plain": [
       "<Figure size 1152x432 with 2 Axes>"
      ]
     },
     "metadata": {
      "needs_background": "light"
     },
     "output_type": "display_data"
    }
   ],
   "source": [
    "# plot results\n",
    "\n",
    "def moving_average(a, n=10) :\n",
    "    ret = np.cumsum(a, dtype=float)\n",
    "    ret[n:] = ret[n:] - ret[:-n]\n",
    "    return ret / n\n",
    "\n",
    "plt.figure(figsize=(16,6))\n",
    "plt.subplot(211)\n",
    "plt.plot(range(1, len(training_rewards)+1), training_rewards, label='training reward')\n",
    "plt.plot(moving_average(training_rewards))\n",
    "plt.xlabel('episode'); plt.ylabel('reward')\n",
    "plt.xlim((0, len(training_rewards)))\n",
    "plt.legend(loc=4); plt.grid()\n",
    "plt.subplot(212)\n",
    "plt.plot(range(1, len(losses)+1), losses, label='loss')\n",
    "plt.plot(moving_average(losses))\n",
    "plt.xlabel('episode'); plt.ylabel('loss')\n",
    "plt.xlim((0, len(losses)))\n",
    "plt.legend(loc=4); plt.grid()\n",
    "plt.tight_layout(); plt.show()"
   ]
  },
  {
   "cell_type": "code",
   "execution_count": 128,
   "metadata": {
    "collapsed": true
   },
   "outputs": [],
   "source": [
    "## Save file\n",
    "PATH = \"/home/senbyo/Documents/DTU/_deepLearning/Pommerman/firstAgent.pt\"\n",
    "torch.save(policy.state_dict(), PATH)"
   ]
  },
  {
   "cell_type": "code",
   "execution_count": 129,
   "metadata": {
    "collapsed": true
   },
   "outputs": [],
   "source": [
    "learning_rate = 0.001 # you know this by now\n",
    "n_inputs = 121\n",
    "n_hidden = 11\n",
    "n_outputs = 6\n",
    "\n",
    "class FirstAgent(BaseAgent):\n",
    "    \n",
    "    def __init__(self, character=characters.Bomber):\n",
    "        super().__init__(character)\n",
    "        self.policyNet = PolicyNet(n_inputs, n_hidden, n_outputs, learning_rate)\n",
    "        state_list = torch.load(PATH)\n",
    "        self.policyNet.load_state_dict(state_list)\n",
    "        \n",
    "        \n",
    "    def act(self, obs, action_space):\n",
    "        # Kald neuralt netværk og return\n",
    "        with torch.no_grad():\n",
    "            a_prob = self.policyNet(torch.from_numpy(np.atleast_2d(obs['board'].flatten())).float())\n",
    "        a = (np.cumsum(a_prob.numpy()) > np.random.rand()).argmax() # sample action\n",
    "        \n",
    "        return a"
   ]
  },
  {
   "cell_type": "code",
   "execution_count": 130,
   "metadata": {
    "collapsed": true
   },
   "outputs": [],
   "source": [
    "# Add four random agents\n",
    "agents = []\n",
    "#for agent_id in range(4):\n",
    "#    agents[agent_id] = RandomAgent(config[\"agent\"](agent_id, config[\"game_type\"]))\n",
    "agents = {\n",
    "    '0' : SimpleAgent(config[\"agent\"](0, config[\"game_type\"])),\n",
    "    '1' : RandomAgent(config[\"agent\"](1, config[\"game_type\"])),\n",
    "    '2' : RandomAgent(config[\"agent\"](2, config[\"game_type\"])),\n",
    "    '3' : FirstAgent(config[\"agent\"](3, config[\"game_type\"]))\n",
    "}\n",
    "env.set_agents(list(agents.values()))\n",
    "env.set_init_game_state(None)"
   ]
  },
  {
   "cell_type": "code",
   "execution_count": 137,
   "metadata": {
    "collapsed": false,
    "scrolled": true
   },
   "outputs": [
    {
     "name": "stdout",
     "output_type": "stream",
     "text": [
      "{'result': <Result.Win: 0>, 'winners': [0]}\n",
      "True\n"
     ]
    }
   ],
   "source": [
    "# Seed and reset the environment\n",
    "env.seed(0)\n",
    "obs = env.reset()\n",
    "\n",
    "# Run the random agents until we're done\n",
    "done = False\n",
    "while not done:\n",
    "    env.render()\n",
    "    actions = env.act(obs)\n",
    "    obs, reward, done, info = env.step(actions)\n",
    "env.render(close=True)\n",
    "env.close()\n",
    "\n",
    "print(info)\n",
    "print (done)"
   ]
  },
  {
   "cell_type": "code",
   "execution_count": 178,
   "metadata": {
    "collapsed": false
   },
   "outputs": [
    {
     "name": "stdout",
     "output_type": "stream",
     "text": [
      "0  alive                                                               [13]\n",
      "   ammo                                                                   1\n",
      "   blast_strength                                                         2\n",
      "   board                  [[0, 2, 1, 0, 1, 1, 0, 2, 1, 0, 1], [2, 0, 0, ...\n",
      "   bomb_blast_strength    [[0.0, 0.0, 0.0, 0.0, 0.0, 0.0, 0.0, 0.0, 0.0,...\n",
      "   bomb_life              [[0.0, 0.0, 0.0, 0.0, 0.0, 0.0, 0.0, 0.0, 0.0,...\n",
      "   can_kick                                                           False\n",
      "   enemies                          [Item.Agent1, Item.Agent2, Item.Agent3]\n",
      "   game_env                                         pommerman.envs.v0:Pomme\n",
      "   game_type                                                              1\n",
      "   position                                                          (1, 1)\n",
      "   step_count                                                            15\n",
      "   teammate                                                 Item.AgentDummy\n",
      "1  alive                                                               [13]\n",
      "   ammo                                                                   1\n",
      "   blast_strength                                                         2\n",
      "   board                  [[0, 2, 1, 0, 1, 1, 0, 2, 1, 0, 1], [2, 0, 0, ...\n",
      "   bomb_blast_strength    [[0.0, 0.0, 0.0, 0.0, 0.0, 0.0, 0.0, 0.0, 0.0,...\n",
      "   bomb_life              [[0.0, 0.0, 0.0, 0.0, 0.0, 0.0, 0.0, 0.0, 0.0,...\n",
      "   can_kick                                                           False\n",
      "   enemies                          [Item.Agent0, Item.Agent2, Item.Agent3]\n",
      "   game_env                                         pommerman.envs.v0:Pomme\n",
      "   game_type                                                              1\n",
      "   position                                                          (9, 1)\n",
      "   step_count                                                            15\n",
      "   teammate                                                 Item.AgentDummy\n",
      "2  alive                                                               [13]\n",
      "   ammo                                                                   1\n",
      "   blast_strength                                                         2\n",
      "   board                  [[0, 2, 1, 0, 1, 1, 0, 2, 1, 0, 1], [2, 0, 0, ...\n",
      "   bomb_blast_strength    [[0.0, 0.0, 0.0, 0.0, 0.0, 0.0, 0.0, 0.0, 0.0,...\n",
      "   bomb_life              [[0.0, 0.0, 0.0, 0.0, 0.0, 0.0, 0.0, 0.0, 0.0,...\n",
      "   can_kick                                                           False\n",
      "   enemies                          [Item.Agent0, Item.Agent1, Item.Agent3]\n",
      "   game_env                                         pommerman.envs.v0:Pomme\n",
      "   game_type                                                              1\n",
      "   position                                                          (9, 7)\n",
      "   step_count                                                            15\n",
      "   teammate                                                 Item.AgentDummy\n",
      "3  alive                                                               [13]\n",
      "   ammo                                                                   1\n",
      "   blast_strength                                                         2\n",
      "   board                  [[0, 2, 1, 0, 1, 1, 0, 2, 1, 0, 1], [2, 0, 0, ...\n",
      "   bomb_blast_strength    [[0.0, 0.0, 0.0, 0.0, 0.0, 0.0, 0.0, 0.0, 0.0,...\n",
      "   bomb_life              [[0.0, 0.0, 0.0, 0.0, 0.0, 0.0, 0.0, 0.0, 0.0,...\n",
      "   can_kick                                                           False\n",
      "   enemies                          [Item.Agent0, Item.Agent1, Item.Agent2]\n",
      "   game_env                                         pommerman.envs.v0:Pomme\n",
      "   game_type                                                              1\n",
      "   position                                                          (3, 9)\n",
      "   step_count                                                            15\n",
      "   teammate                                                 Item.AgentDummy\n",
      "dtype: object\n"
     ]
    }
   ],
   "source": [
    "# creating DataFrame from targets_data\n",
    "#targets_df = pd.DataFrame(data=targets_data)\n",
    "#targets_df.columns = ['targets']\n",
    "\n",
    "# creating tensor from targets_df \n",
    "#torch_tensor = torch.tensor(targets_df['targets'].values)\n",
    "\n",
    "# printing out result\n",
    "#print(torch_tensor\n",
    "dataFrame = pd.DataFrame(data=s)\n",
    "columns = dataFrame.columns \n",
    "torchTenssor = dataFrame[columns].values\n",
    "\n",
    "#print(dataFrame.values.ravel('C'))\n",
    "print(dataFrame.stack())\n",
    "#print (torch.tensor(.columns.values))"
   ]
  },
  {
   "cell_type": "code",
   "execution_count": null,
   "metadata": {
    "collapsed": true
   },
   "outputs": [],
   "source": []
  }
 ],
 "metadata": {
  "kernelspec": {
   "display_name": "Python 3",
   "language": "python",
   "name": "python3"
  },
  "language_info": {
   "codemirror_mode": {
    "name": "ipython",
    "version": 3
   },
   "file_extension": ".py",
   "mimetype": "text/x-python",
   "name": "python",
   "nbconvert_exporter": "python",
   "pygments_lexer": "ipython3",
   "version": "3.6.0"
  }
 },
 "nbformat": 4,
 "nbformat_minor": 2
}
