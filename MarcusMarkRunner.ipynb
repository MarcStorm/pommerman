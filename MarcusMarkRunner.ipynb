{
 "cells": [
  {
   "cell_type": "code",
   "execution_count": 64,
   "metadata": {},
   "outputs": [],
   "source": [
    "import os\n",
    "import sys\n",
    "import numpy as np\n",
    "import pandas as pd\n",
    "import torch\n",
    "\n",
    "\n",
    "import matplotlib.pyplot as plt\n",
    "from pommerman.agents import SimpleAgent, RandomAgent, PlayerAgent, BaseAgent\n",
    "from pommerman.configs import ffa_v0_fast_env\n",
    "from pommerman.envs.v0 import Pomme\n",
    "from pommerman.characters import Bomber\n",
    "from pommerman import utility, characters\n",
    "from pommerman.constants import Action\n",
    "from torch.nn.parameter import Parameter\n",
    "import torch.nn.init as init\n",
    "import torch.nn.functional as F\n",
    "import torch.optim as optim\n",
    "import torch.nn as nn"
   ]
  },
  {
   "cell_type": "markdown",
   "metadata": {},
   "source": [
    "Actions: \n",
    "    Stop = 0,\n",
    "    Up = 1,\n",
    "    Down = 2,\n",
    "    Left = 3,\n",
    "    Right = 4,\n",
    "    Bomb = 5"
   ]
  },
  {
   "cell_type": "code",
   "execution_count": 6,
   "metadata": {},
   "outputs": [],
   "source": [
    "class PolicyNet(nn.Module):\n",
    "    \"\"\"Policy network\"\"\"\n",
    "\n",
    "    def __init__(self, n_inputs, n_hidden, n_outputs, learning_rate):\n",
    "        super(PolicyNet, self).__init__()\n",
    "        # network\n",
    "        self.hidden = nn.Linear(n_inputs, n_hidden)\n",
    "        self.out = nn.Linear(n_hidden, n_outputs)\n",
    "        # training\n",
    "        self.optimizer = optim.Adam(self.parameters(), lr=learning_rate)\n",
    "\n",
    "    def forward(self, x):\n",
    "        x = self.hidden(x)\n",
    "        x = F.relu(x)\n",
    "        x = self.out(x)\n",
    "        return F.softmax(x, dim=1)\n",
    "    \n",
    "    def loss(self, action_probabilities, returns):\n",
    "        return -torch.mean(torch.mul(torch.log(action_probabilities), returns))"
   ]
  },
  {
   "cell_type": "code",
   "execution_count": 7,
   "metadata": {},
   "outputs": [],
   "source": [
    "def compute_returns(rewards, discount_factor):\n",
    "    \"\"\"Compute discounted returns.\"\"\"\n",
    "    returns = np.zeros(len(rewards))\n",
    "    returns[-1] = rewards[-1]\n",
    "    for t in reversed(range(len(rewards)-1)):\n",
    "        returns[t] = rewards[t] + discount_factor * returns[t+1]\n",
    "    return returns"
   ]
  },
  {
   "cell_type": "code",
   "execution_count": 8,
   "metadata": {},
   "outputs": [],
   "source": [
    "# Instantiate the environment\n",
    "config = ffa_v0_fast_env()\n",
    "env = Pomme(**config[\"env_kwargs\"])"
   ]
  },
  {
   "cell_type": "code",
   "execution_count": 48,
   "metadata": {},
   "outputs": [
    {
     "name": "stdout",
     "output_type": "stream",
     "text": [
      "state shape: 121\n",
      "action shape: 6\n"
     ]
    }
   ],
   "source": [
    "#n_inputs = env.observation_space.shape[0]\n",
    "n_inputs = 121\n",
    "#n_hidden = 20\n",
    "n_hidden = 11\n",
    "n_outputs = env.action_space.n\n",
    "\n",
    "print('state shape:', n_inputs)\n",
    "print('action shape:', n_outputs)\n",
    "\n"
   ]
  },
  {
   "cell_type": "code",
   "execution_count": 79,
   "metadata": {},
   "outputs": [
    {
     "name": "stdout",
     "output_type": "stream",
     "text": [
      "start training\n",
      "   1. mean training reward: -13.00, mean validation reward: -19.50, mean loss: -15.7462\n",
      "   2. mean training reward: -37.00, mean validation reward:  -7.20, mean loss: -47.5126\n",
      "   3. mean training reward:  -1.00, mean validation reward: -14.40, mean loss: -1.8413\n",
      "   4. mean training reward: -13.00, mean validation reward:  -8.20, mean loss: -17.7734\n",
      "   5. mean training reward:  -2.00, mean validation reward:  -9.60, mean loss: -3.3336\n",
      "   6. mean training reward:  -6.00, mean validation reward:  -0.50, mean loss: -9.3306\n",
      "   7. mean training reward: -22.00, mean validation reward: -11.10, mean loss: -29.9873\n",
      "   8. mean training reward: -15.00, mean validation reward:  -6.10, mean loss: -19.1143\n",
      "   9. mean training reward:  -6.00, mean validation reward:  -8.80, mean loss: -8.6926\n",
      "  10. mean training reward:  -5.00, mean validation reward:  -5.50, mean loss: -7.8871\n",
      "done\n"
     ]
    }
   ],
   "source": [
    "# training settings\n",
    "debug = False\n",
    "num_episodes = 10\n",
    "\n",
    "discount_factor = 1.0 # reward discount factor (gamma), 1.0 = no discount\n",
    "learning_rate = 0.001 # you know this by now\n",
    "val_freq = 1 # validation frequency\n",
    "\n",
    "# setup policy network\n",
    "\n",
    "policy = PolicyNet(n_inputs, n_hidden, n_outputs, learning_rate)\n",
    "\n",
    "# train policy network\n",
    "\n",
    "try:\n",
    "    training_rewards, losses = [], []\n",
    "    print('start training')\n",
    "    for i in range(num_episodes):\n",
    "        rollout = []\n",
    "        \n",
    "        # Add four random agents\n",
    "        agents = []\n",
    "        #for agent_id in range(4):\n",
    "        #    agents[agent_id] = RandomAgent(config[\"agent\"](agent_id, config[\"game_type\"]))\n",
    "        agents = {\n",
    "            '0' : SimpleAgent(config[\"agent\"](0, config[\"game_type\"])),\n",
    "            '1' : RandomAgent(config[\"agent\"](1, config[\"game_type\"])),\n",
    "            '2' : RandomAgent(config[\"agent\"](2, config[\"game_type\"])),\n",
    "            '3' : FirstAgent(config[\"agent\"](3, config[\"game_type\"]))\n",
    "        }\n",
    "        env.set_agents(list(agents.values()))\n",
    "        env.set_init_game_state(None)\n",
    "        \n",
    "        s = env.reset()\n",
    "        done = False\n",
    "        while(not done):\n",
    "            # generate rollout by iteratively evaluating the current policy on the environment\n",
    "            with torch.no_grad():\n",
    "                a_prob = policy(torch.from_numpy(np.atleast_2d(s[3]['board'].flatten())).float())\n",
    "            a = (np.cumsum(a_prob.numpy()) > np.random.rand()).argmax() # sample action\n",
    "            \n",
    "            \n",
    "            actions = env.act(obs)\n",
    "            actions[3] = a\n",
    "            \n",
    "            obs, reward, done, info = env.step(actions)\n",
    "            \n",
    "            #Introduced flatten on the board\n",
    "            rollout.append((s[3]['board'].flatten(), a, reward[3]))\n",
    "            \n",
    "            s = obs\n",
    "            if done: break\n",
    "                \n",
    "        # prepare batch\n",
    "        rollout = np.array(rollout)\n",
    "        states = np.vstack(rollout[:,0])\n",
    "        actions = np.vstack(rollout[:,1])\n",
    "        rewards = np.array(rollout[:,2], dtype=float)\n",
    "        returns = compute_returns(rewards, discount_factor)\n",
    "        \n",
    "        # policy gradient update\n",
    "        policy.optimizer.zero_grad()\n",
    "        #print ( torch.from_numpy(actions) )\n",
    "        if i < 2 and debug:\n",
    "            print(\"torch.from_numpy(states).float()\")\n",
    "            print(torch.from_numpy(states).float())\n",
    "            print(torch.from_numpy(states).float())\n",
    "            print()\n",
    "            \n",
    "            print(\"policy(torch.from_numpy(states).float())\")\n",
    "            print(policy(torch.from_numpy(states).float()))\n",
    "            print(policy(torch.from_numpy(states).float()).size())\n",
    "            print()\n",
    "            \n",
    "            print(\"torch.from_numpy(actions))\")\n",
    "            print(torch.from_numpy(actions))\n",
    "            print(torch.from_numpy(actions).size())\n",
    "            print()\n",
    "            \n",
    "            print(\"policy(torch.from_numpy(states).float()).gather(1, torch.from_numpy(actions))\")\n",
    "            print(policy(torch.from_numpy(states).float()).gather(1, torch.from_numpy(actions)))\n",
    "            print()\n",
    "            \n",
    "            print(\"policy(torch.from_numpy(states).float()).gather(1, torch.from_numpy(actions)).view(-1)\")\n",
    "            print(policy(torch.from_numpy(states).float()).gather(1, torch.from_numpy(actions)).view(-1))\n",
    "            print()\n",
    "        \n",
    "        a_probs = policy(torch.from_numpy(states).float()).gather(1, torch.from_numpy(actions)).view(-1)\n",
    "        loss = policy.loss(a_probs, torch.from_numpy(returns).float())\n",
    "        loss.backward()\n",
    "        policy.optimizer.step()\n",
    "        \n",
    "        # bookkeeping\n",
    "        training_rewards.append(sum(rewards))\n",
    "        losses.append(loss.item())\n",
    "        \n",
    "        # print\n",
    "        if (i+1) % val_freq == 0:\n",
    "            # validation\n",
    "            validation_rewards = []\n",
    "            for _ in range(10):\n",
    "                s = env.reset()\n",
    "                reward = 0\n",
    "                done = False\n",
    "                while not done:\n",
    "                    with torch.no_grad():\n",
    "                        a = policy(torch.from_numpy(np.atleast_2d(s[3]['board'].flatten())).float()).argmax().item()\n",
    "                        \n",
    "                    actions = env.act(obs)\n",
    "                    actions[3] = a\n",
    "                    s, r, done, info = env.step(actions)\n",
    "                    reward += r[3]\n",
    "                    if done: break\n",
    "                validation_rewards.append(reward)\n",
    "            print('{:4d}. mean training reward: {:6.2f}, mean validation reward: {:6.2f}, mean loss: {:7.4f}'.format(i+1, np.mean(training_rewards[-val_freq:]), np.mean(validation_rewards), np.mean(losses[-val_freq:])))\n",
    "    print('done')\n",
    "except KeyboardInterrupt:\n",
    "    print('interrupt')"
   ]
  },
  {
   "cell_type": "code",
   "execution_count": 80,
   "metadata": {},
   "outputs": [
    {
     "data": {
      "image/png": "[encoded data removed]",
      "text/plain": [
       "<Figure size 1152x432 with 2 Axes>"
      ]
     },
     "metadata": {
      "needs_background": "light"
     },
     "output_type": "display_data"
    }
   ],
   "source": [
    "# plot results\n",
    "\n",
    "def moving_average(a, n=10) :\n",
    "    ret = np.cumsum(a, dtype=float)\n",
    "    ret[n:] = ret[n:] - ret[:-n]\n",
    "    return ret / n\n",
    "\n",
    "plt.figure(figsize=(16,6))\n",
    "plt.subplot(211)\n",
    "plt.plot(range(1, len(training_rewards)+1), training_rewards, label='training reward')\n",
    "plt.plot(moving_average(training_rewards))\n",
    "plt.xlabel('episode'); plt.ylabel('reward')\n",
    "plt.xlim((0, len(training_rewards)))\n",
    "plt.legend(loc=4); plt.grid()\n",
    "plt.subplot(212)\n",
    "plt.plot(range(1, len(losses)+1), losses, label='loss')\n",
    "plt.plot(moving_average(losses))\n",
    "plt.xlabel('episode'); plt.ylabel('loss')\n",
    "plt.xlim((0, len(losses)))\n",
    "plt.legend(loc=4); plt.grid()\n",
    "plt.tight_layout(); plt.show()"
   ]
  },
  {
   "cell_type": "code",
   "execution_count": 3,
   "metadata": {},
   "outputs": [],
   "source": [
    "class FirstAgent(BaseAgent):\n",
    "    \n",
    "    def __init__(self, character=characters.Bomber):\n",
    "        super().__init__(character)\n",
    "\n",
    "    def act(self, obs, action_space):\n",
    "        # Kald neuralt netværk og return\n",
    "        return Action['Stop']"
   ]
  },
  {
   "cell_type": "code",
   "execution_count": 68,
   "metadata": {},
   "outputs": [],
   "source": [
    "# Add four random agents\n",
    "agents = []\n",
    "#for agent_id in range(4):\n",
    "#    agents[agent_id] = RandomAgent(config[\"agent\"](agent_id, config[\"game_type\"]))\n",
    "agents = {\n",
    "    '0' : SimpleAgent(config[\"agent\"](0, config[\"game_type\"])),\n",
    "    '1' : RandomAgent(config[\"agent\"](1, config[\"game_type\"])),\n",
    "    '2' : RandomAgent(config[\"agent\"](2, config[\"game_type\"])),\n",
    "    '3' : FirstAgent(config[\"agent\"](3, config[\"game_type\"]))\n",
    "}\n",
    "env.set_agents(list(agents.values()))\n",
    "env.set_init_game_state(None)"
   ]
  },
  {
   "cell_type": "code",
   "execution_count": 69,
   "metadata": {},
   "outputs": [
    {
     "name": "stdout",
     "output_type": "stream",
     "text": [
      "{'result': <Result.Win: 0>, 'winners': [0]}\n",
      "True\n"
     ]
    }
   ],
   "source": [
    "# Seed and reset the environment\n",
    "env.seed(0)\n",
    "obs = env.reset()\n",
    "\n",
    "# Run the random agents until we're done\n",
    "done = False\n",
    "while not done:\n",
    "    env.render()\n",
    "    actions = env.act(obs)\n",
    "    obs, reward, done, info = env.step(actions)\n",
    "env.render(close=True)\n",
    "env.close()\n",
    "\n",
    "print(info)\n",
    "print (done)"
   ]
  },
  {
   "cell_type": "code",
   "execution_count": 34,
   "metadata": {},
   "outputs": [
    {
     "name": "stdout",
     "output_type": "stream",
     "text": [
      "['__class__', '__delattr__', '__dict__', '__dir__', '__doc__', '__eq__', '__format__', '__ge__', '__getattribute__', '__gt__', '__hash__', '__init__', '__init_subclass__', '__le__', '__lt__', '__module__', '__ne__', '__new__', '__reduce__', '__reduce_ex__', '__repr__', '__setattr__', '__sizeof__', '__str__', '__subclasshook__', '__weakref__', '_agent_view_size', '_agents', '_board', '_board_size', '_bombs', '_env', '_flames', '_game_type', '_get_done', '_get_info', '_get_rewards', '_init_game_state', '_intended_actions', '_is_partially_observable', '_items', '_max_steps', '_mode', '_num_items', '_num_rigid', '_num_wood', '_powerups', '_render_fps', '_set_action_space', '_set_observation_space', '_step_count', '_viewer', 'act', 'action_space', 'close', 'featurize', 'get_json_info', 'get_observations', 'make_board', 'make_items', 'metadata', 'model', 'np_random', 'observation_space', 'observations', 'render', 'reset', 'reward_range', 'save_json', 'seed', 'set_agents', 'set_init_game_state', 'set_json_info', 'set_render_mode', 'set_training_agent', 'spec', 'step', 'training_agent', 'unwrapped']\n"
     ]
    }
   ],
   "source": [
    "print (dir(env))"
   ]
  },
  {
   "cell_type": "code",
   "execution_count": 116,
   "metadata": {},
   "outputs": [
    {
     "name": "stdout",
     "output_type": "stream",
     "text": [
      "[[ 0  0  2  1  2  2  1  1  2  0  2]\n",
      " [ 0 10  0  0  2  2  2  0  0 13  1]\n",
      " [ 2  0  0  0  0  0  1  1  0  0  0]\n",
      " [ 1  0  0  0  1  2  2  1  2  0  0]\n",
      " [ 2  2  0  1  0  2  2  1  1  2  0]\n",
      " [ 2  2  0  2  2  0  1  2  1  2  2]\n",
      " [ 1  2  1  2  2  1  0  1  0  2  1]\n",
      " [ 1  0  1  1  1  2  1  0  1  0  1]\n",
      " [ 2  0  0  2  1  1  0  1  0  0  1]\n",
      " [ 0 11  0  0  2  2  2  0  0 12  1]\n",
      " [ 2  1  0  0  0  2  1  1  1  1  0]]\n",
      "tensor([[ 0,  0,  2,  1,  2,  2,  1,  1,  2,  0,  2],\n",
      "        [ 0, 10,  0,  0,  2,  2,  2,  0,  0, 13,  1],\n",
      "        [ 2,  0,  0,  0,  0,  0,  1,  1,  0,  0,  0],\n",
      "        [ 1,  0,  0,  0,  1,  2,  2,  1,  2,  0,  0],\n",
      "        [ 2,  2,  0,  1,  0,  2,  2,  1,  1,  2,  0],\n",
      "        [ 2,  2,  0,  2,  2,  0,  1,  2,  1,  2,  2],\n",
      "        [ 1,  2,  1,  2,  2,  1,  0,  1,  0,  2,  1],\n",
      "        [ 1,  0,  1,  1,  1,  2,  1,  0,  1,  0,  1],\n",
      "        [ 2,  0,  0,  2,  1,  1,  0,  1,  0,  0,  1],\n",
      "        [ 0, 11,  0,  0,  2,  2,  2,  0,  0, 12,  1],\n",
      "        [ 2,  1,  0,  0,  0,  2,  1,  1,  1,  1,  0]], dtype=torch.uint8)\n"
     ]
    }
   ],
   "source": [
    "s = env.reset()\n",
    "#print(s)\n",
    "\n",
    "#a_prob = policy(torch.from_numpy(np.atleast_2d(s)).float())\n",
    "#print (torch.from_numpy(np.atleast_2d(s)))\n",
    "test = np.asarray(s)\n",
    "print (s[0]['board'])\n",
    "print (torch.from_numpy(s[0]['board']))"
   ]
  },
  {
   "cell_type": "code",
   "execution_count": 178,
   "metadata": {},
   "outputs": [
    {
     "name": "stdout",
     "output_type": "stream",
     "text": [
      "0  alive                                                               [13]\n",
      "   ammo                                                                   1\n",
      "   blast_strength                                                         2\n",
      "   board                  [[0, 2, 1, 0, 1, 1, 0, 2, 1, 0, 1], [2, 0, 0, ...\n",
      "   bomb_blast_strength    [[0.0, 0.0, 0.0, 0.0, 0.0, 0.0, 0.0, 0.0, 0.0,...\n",
      "   bomb_life              [[0.0, 0.0, 0.0, 0.0, 0.0, 0.0, 0.0, 0.0, 0.0,...\n",
      "   can_kick                                                           False\n",
      "   enemies                          [Item.Agent1, Item.Agent2, Item.Agent3]\n",
      "   game_env                                         pommerman.envs.v0:Pomme\n",
      "   game_type                                                              1\n",
      "   position                                                          (1, 1)\n",
      "   step_count                                                            15\n",
      "   teammate                                                 Item.AgentDummy\n",
      "1  alive                                                               [13]\n",
      "   ammo                                                                   1\n",
      "   blast_strength                                                         2\n",
      "   board                  [[0, 2, 1, 0, 1, 1, 0, 2, 1, 0, 1], [2, 0, 0, ...\n",
      "   bomb_blast_strength    [[0.0, 0.0, 0.0, 0.0, 0.0, 0.0, 0.0, 0.0, 0.0,...\n",
      "   bomb_life              [[0.0, 0.0, 0.0, 0.0, 0.0, 0.0, 0.0, 0.0, 0.0,...\n",
      "   can_kick                                                           False\n",
      "   enemies                          [Item.Agent0, Item.Agent2, Item.Agent3]\n",
      "   game_env                                         pommerman.envs.v0:Pomme\n",
      "   game_type                                                              1\n",
      "   position                                                          (9, 1)\n",
      "   step_count                                                            15\n",
      "   teammate                                                 Item.AgentDummy\n",
      "2  alive                                                               [13]\n",
      "   ammo                                                                   1\n",
      "   blast_strength                                                         2\n",
      "   board                  [[0, 2, 1, 0, 1, 1, 0, 2, 1, 0, 1], [2, 0, 0, ...\n",
      "   bomb_blast_strength    [[0.0, 0.0, 0.0, 0.0, 0.0, 0.0, 0.0, 0.0, 0.0,...\n",
      "   bomb_life              [[0.0, 0.0, 0.0, 0.0, 0.0, 0.0, 0.0, 0.0, 0.0,...\n",
      "   can_kick                                                           False\n",
      "   enemies                          [Item.Agent0, Item.Agent1, Item.Agent3]\n",
      "   game_env                                         pommerman.envs.v0:Pomme\n",
      "   game_type                                                              1\n",
      "   position                                                          (9, 7)\n",
      "   step_count                                                            15\n",
      "   teammate                                                 Item.AgentDummy\n",
      "3  alive                                                               [13]\n",
      "   ammo                                                                   1\n",
      "   blast_strength                                                         2\n",
      "   board                  [[0, 2, 1, 0, 1, 1, 0, 2, 1, 0, 1], [2, 0, 0, ...\n",
      "   bomb_blast_strength    [[0.0, 0.0, 0.0, 0.0, 0.0, 0.0, 0.0, 0.0, 0.0,...\n",
      "   bomb_life              [[0.0, 0.0, 0.0, 0.0, 0.0, 0.0, 0.0, 0.0, 0.0,...\n",
      "   can_kick                                                           False\n",
      "   enemies                          [Item.Agent0, Item.Agent1, Item.Agent2]\n",
      "   game_env                                         pommerman.envs.v0:Pomme\n",
      "   game_type                                                              1\n",
      "   position                                                          (3, 9)\n",
      "   step_count                                                            15\n",
      "   teammate                                                 Item.AgentDummy\n",
      "dtype: object\n"
     ]
    }
   ],
   "source": [
    "# creating DataFrame from targets_data\n",
    "#targets_df = pd.DataFrame(data=targets_data)\n",
    "#targets_df.columns = ['targets']\n",
    "\n",
    "# creating tensor from targets_df \n",
    "#torch_tensor = torch.tensor(targets_df['targets'].values)\n",
    "\n",
    "# printing out result\n",
    "#print(torch_tensor\n",
    "dataFrame = pd.DataFrame(data=s)\n",
    "columns = dataFrame.columns \n",
    "torchTenssor = dataFrame[columns].values\n",
    "\n",
    "#print(dataFrame.values.ravel('C'))\n",
    "print(dataFrame.stack())\n",
    "#print (torch.tensor(.columns.values))"
   ]
  },
  {
   "cell_type": "code",
   "execution_count": null,
   "metadata": {},
   "outputs": [],
   "source": []
  }
 ],
 "metadata": {
  "kernelspec": {
   "display_name": "Python 3",
   "language": "python",
   "name": "python3"
  },
  "language_info": {
   "codemirror_mode": {
    "name": "ipython",
    "version": 3
   },
   "file_extension": ".py",
   "mimetype": "text/x-python",
   "name": "python",
   "nbconvert_exporter": "python",
   "pygments_lexer": "ipython3",
   "version": "3.6.6"
  }
 },
 "nbformat": 4,
 "nbformat_minor": 2
}
